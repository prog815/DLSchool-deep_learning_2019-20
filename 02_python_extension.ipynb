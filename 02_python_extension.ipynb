{
  "nbformat": 4,
  "nbformat_minor": 0,
  "metadata": {
    "colab": {
      "name": "02. python_extension.ipynb",
      "provenance": [],
      "collapsed_sections": [],
      "toc_visible": true,
      "include_colab_link": true
    },
    "kernelspec": {
      "display_name": "Python 3",
      "language": "python",
      "name": "python3"
    }
  },
  "cells": [
    {
      "cell_type": "markdown",
      "metadata": {
        "id": "view-in-github",
        "colab_type": "text"
      },
      "source": [
        "<a href=\"https://colab.research.google.com/github/prog815/DLSchool-deep_learning_2019-20/blob/master/02_python_extension.ipynb\" target=\"_parent\"><img src=\"https://colab.research.google.com/assets/colab-badge.svg\" alt=\"Open In Colab\"/></a>"
      ]
    },
    {
      "cell_type": "markdown",
      "metadata": {
        "id": "Stge820q2d1d",
        "colab_type": "text"
      },
      "source": [
        "<h2 style=\"text-align: center;\"><b>Python. Занятие 1: Дополнение</b></h2>"
      ]
    },
    {
      "cell_type": "markdown",
      "metadata": {
        "id": "7XQ42g-z2d1j",
        "colab_type": "text"
      },
      "source": [
        "<img align=left src=\"https://cdn.fedoramagazine.org/wp-content/uploads/2015/11/Python_logo.png\" style=\"height:160px;\" />\n",
        "\n",
        "<img align=center src=\"https://1.bp.blogspot.com/-16utHnlB3Ao/V4tpG8NBX0I/AAAAAAAAA7M/vDQ1p40JpE8M34eCr-UdriSV04Dn8au7QCLcB/s1600/jupyter-logo.png\" style=\"height:90px;\" />"
      ]
    },
    {
      "cell_type": "markdown",
      "metadata": {
        "id": "l8V2fdfy2d1m",
        "colab_type": "text"
      },
      "source": [
        "Этот ноутбук -- дополнение к python_basics.ipynb. Здесь разобраны некоторые полезные конструкции и функции языка Python. Опять же, ноутбук не претендует на охват всех возможностей языка!"
      ]
    },
    {
      "cell_type": "markdown",
      "metadata": {
        "id": "s6H55PRg2d1p",
        "colab_type": "text"
      },
      "source": [
        "### list comprehensions"
      ]
    },
    {
      "cell_type": "markdown",
      "metadata": {
        "id": "myYtvrEH2d1r",
        "colab_type": "text"
      },
      "source": [
        "<img align=center src=\"http://images7.memedroid.com/images/UPLOADED973/596e4c96650e5.jpeg\" style=\"height:400px;\"/>"
      ]
    },
    {
      "cell_type": "markdown",
      "metadata": {
        "id": "81c3upgh2d1t",
        "colab_type": "text"
      },
      "source": [
        "Давайте зададимся вопросом: как создать массив с числами от 1 до 100, которые делятся на 5?\n",
        "\n",
        "* Решение 1:\n",
        "\n",
        "```\n",
        "mas = []\n",
        "for i in range(100):\n",
        "    if i % 5 == 0:\n",
        "        mas.append(i)\n",
        "```\n",
        "\n",
        "Это довольно долго писать и в коде выглядит некомпактно.\n",
        "\n",
        "* Решение 2:"
      ]
    },
    {
      "cell_type": "code",
      "metadata": {
        "id": "nd6jZWAl2d1v",
        "colab_type": "code",
        "outputId": "b57661ce-5a89-4799-8fa3-141c201108ba",
        "colab": {
          "base_uri": "https://localhost:8080/",
          "height": 34
        }
      },
      "source": [
        "mas = [x for x in range(100) if x%5==0]\n",
        "mas"
      ],
      "execution_count": 0,
      "outputs": [
        {
          "output_type": "execute_result",
          "data": {
            "text/plain": [
              "[0, 5, 10, 15, 20, 25, 30, 35, 40, 45, 50, 55, 60, 65, 70, 75, 80, 85, 90, 95]"
            ]
          },
          "metadata": {
            "tags": []
          },
          "execution_count": 1
        }
      ]
    },
    {
      "cell_type": "markdown",
      "metadata": {
        "id": "MUL5tuNP2d10",
        "colab_type": "text"
      },
      "source": [
        "Здесь код записан так, что его можно легко можно прочитать на естественном языке: \n",
        "\n",
        "\" положи в массив mas такие числа х из отрезка [0, 100], что х делится на 5\""
      ]
    },
    {
      "cell_type": "markdown",
      "metadata": {
        "id": "m1vuSXH_2d12",
        "colab_type": "text"
      },
      "source": [
        "Таким же образом можно записывать в питоне многие другие конструкции такого типа. Вот примеры еще нескольких:"
      ]
    },
    {
      "cell_type": "code",
      "metadata": {
        "id": "b0Keh_lR2d13",
        "colab_type": "code",
        "outputId": "a211b09e-4f71-49ff-f957-fb105e7dfdc6",
        "colab": {
          "base_uri": "https://localhost:8080/",
          "height": 50
        }
      },
      "source": [
        "# массив квадратов чисел от 0 до 9\n",
        "mas = [x**2 for x in range(10)]\n",
        "print(mas)\n",
        "\n",
        "# массив, на нечетных индексах которого находятся слова \"odd\", а четных -- \"even\"\n",
        "mas = [\"odd\" if x%2==1 else \"even\" for x in range(10)]\n",
        "print(mas)"
      ],
      "execution_count": 0,
      "outputs": [
        {
          "output_type": "stream",
          "text": [
            "[0, 1, 4, 9, 16, 25, 36, 49, 64, 81]\n",
            "['even', 'odd', 'even', 'odd', 'even', 'odd', 'even', 'odd', 'even', 'odd']\n"
          ],
          "name": "stdout"
        }
      ]
    },
    {
      "cell_type": "markdown",
      "metadata": {
        "id": "1dN6iNkD2d17",
        "colab_type": "text"
      },
      "source": [
        "Так же можно создавать словари:"
      ]
    },
    {
      "cell_type": "code",
      "metadata": {
        "id": "EVl9tRRU2d19",
        "colab_type": "code",
        "outputId": "50f362c8-fb94-4e8b-e12a-0f57a4e6b736",
        "colab": {
          "base_uri": "https://localhost:8080/",
          "height": 34
        }
      },
      "source": [
        "d = {word: i for i, word in enumerate([\"zero\", \"first\", \"second\"])}\n",
        "d"
      ],
      "execution_count": 0,
      "outputs": [
        {
          "output_type": "execute_result",
          "data": {
            "text/plain": [
              "{'first': 1, 'second': 2, 'zero': 0}"
            ]
          },
          "metadata": {
            "tags": []
          },
          "execution_count": 6
        }
      ]
    },
    {
      "cell_type": "markdown",
      "metadata": {
        "id": "6gAv4fNm2d2B",
        "colab_type": "text"
      },
      "source": [
        "### Задание 1\n",
        "\n",
        "Пусть есть массив mas. С помощью list comprehensions создайте второй массив, где на четных индексах будут находиться соответствующие элементы массива mas, умноженные на 10, а на нечетных индексах -- единицы\n",
        "\n"
      ]
    },
    {
      "cell_type": "code",
      "metadata": {
        "id": "zkMjCQtL2d2C",
        "colab_type": "code",
        "outputId": "2c2010a4-baf4-4ecc-8588-6f0b877f0d59",
        "colab": {
          "base_uri": "https://localhost:8080/",
          "height": 34
        }
      },
      "source": [
        "# your code here\n",
        "mas = [234,345,65,23,75,88,99]\n",
        "[elem if i%2==0 else 1 for i,elem in enumerate(mas)]"
      ],
      "execution_count": 0,
      "outputs": [
        {
          "output_type": "execute_result",
          "data": {
            "text/plain": [
              "[234, 1, 65, 1, 75, 1, 99]"
            ]
          },
          "metadata": {
            "tags": []
          },
          "execution_count": 7
        }
      ]
    },
    {
      "cell_type": "markdown",
      "metadata": {
        "id": "EvsoTGB72d2E",
        "colab_type": "text"
      },
      "source": [
        "---------------"
      ]
    },
    {
      "cell_type": "markdown",
      "metadata": {
        "id": "N6Ns0rB52d2F",
        "colab_type": "text"
      },
      "source": [
        "### functions, lambdas"
      ]
    },
    {
      "cell_type": "markdown",
      "metadata": {
        "id": "MnASYznX2d2G",
        "colab_type": "text"
      },
      "source": [
        "**функции**"
      ]
    },
    {
      "cell_type": "markdown",
      "metadata": {
        "id": "MtrFRSQA2d2H",
        "colab_type": "text"
      },
      "source": [
        "Это такие объекты в питоне, которые принимают некоторые параметры (переменные), исполняют некоторый код внутри себя и, возможно, возвращают некоторое значение. \n",
        "\n",
        "Рассмотрим баристу в кофейне. Он -- \"функция\", которая умеет делать кофе. В качестве параметров вы говорите ему размер стакана кофе, который хотите получить и количество сахара, которое туда положить. Далее бариста делает вам кофе и отдает его вам. \n",
        "\n",
        "В питоновском коде это можно записать примерно так:"
      ]
    },
    {
      "cell_type": "code",
      "metadata": {
        "id": "8tIsKz772d2I",
        "colab_type": "code",
        "colab": {}
      },
      "source": [
        "def make_coffee(size, sugar_dose=3):\n",
        "    if sugar_dose > 5:\n",
        "        return 'Too much sugar! Be careful! :('\n",
        "    else:\n",
        "        return 'Done: cup of {0} ml size; amount of sugar = {1}'.format(size, sugar_dose)"
      ],
      "execution_count": 0,
      "outputs": []
    },
    {
      "cell_type": "code",
      "metadata": {
        "id": "fTBqLAaNgeDp",
        "colab_type": "code",
        "outputId": "5915784e-021a-4c6f-cbe6-d79917db0805",
        "colab": {
          "base_uri": "https://localhost:8080/",
          "height": 34
        }
      },
      "source": [
        "make_coffee(100,6)"
      ],
      "execution_count": 0,
      "outputs": [
        {
          "output_type": "execute_result",
          "data": {
            "text/plain": [
              "'Too much sugar! Be careful! :('"
            ]
          },
          "metadata": {
            "tags": []
          },
          "execution_count": 10
        }
      ]
    },
    {
      "cell_type": "markdown",
      "metadata": {
        "id": "-3PhpyuG2d2L",
        "colab_type": "text"
      },
      "source": [
        "То есть, чтобы определить функцию, нужно написать ключевое слово `def`, далее название функции и в круглых скобочках список параметров, которые она принимает. Далее после двоеточия со следующей строки идет тело функции -- тот код, который функция выполняет. Код функции пишется с отступом в 4 пробела от уровня `def`"
      ]
    },
    {
      "cell_type": "markdown",
      "metadata": {
        "id": "XyacAiPW2d2N",
        "colab_type": "text"
      },
      "source": [
        "Давайте, например, напишем функцию, которая принимает переменную x и вычисляет $x^2$"
      ]
    },
    {
      "cell_type": "code",
      "metadata": {
        "id": "eLjDjEUM2d2O",
        "colab_type": "code",
        "outputId": "d4c550a0-adb2-4729-f8fb-e17be9ded653",
        "colab": {
          "base_uri": "https://localhost:8080/",
          "height": 34
        }
      },
      "source": [
        "def square(x):\n",
        "    y = x**2\n",
        "    return y\n",
        "\n",
        "square(5)"
      ],
      "execution_count": 0,
      "outputs": [
        {
          "output_type": "execute_result",
          "data": {
            "text/plain": [
              "25"
            ]
          },
          "metadata": {
            "tags": []
          },
          "execution_count": 11
        }
      ]
    },
    {
      "cell_type": "markdown",
      "metadata": {
        "id": "MoXtVj-t2d2R",
        "colab_type": "text"
      },
      "source": [
        "Существует еще один способ записи функций -- **lambda**-выражения. С использованием них наша функция square выше выглядела бы так:"
      ]
    },
    {
      "cell_type": "code",
      "metadata": {
        "id": "1gN72_E92d2S",
        "colab_type": "code",
        "outputId": "85a3d33e-4d87-4456-93a4-e502f076b92d",
        "colab": {
          "base_uri": "https://localhost:8080/",
          "height": 34
        }
      },
      "source": [
        "square = lambda x: x**2\n",
        "\n",
        "square(5)"
      ],
      "execution_count": 0,
      "outputs": [
        {
          "output_type": "execute_result",
          "data": {
            "text/plain": [
              "25"
            ]
          },
          "metadata": {
            "tags": []
          },
          "execution_count": 12
        }
      ]
    },
    {
      "cell_type": "markdown",
      "metadata": {
        "id": "vKExTFca2d2W",
        "colab_type": "text"
      },
      "source": [
        "Чтобы записать функцию в виде lambda, нужно написать ключевое слово lambda, после список переменных, которые функция принимает (в нашем случае это x), а затем после ':' -- возвращаемое функцией значение.   "
      ]
    },
    {
      "cell_type": "markdown",
      "metadata": {
        "id": "IUYJlUDf2d2X",
        "colab_type": "text"
      },
      "source": [
        "Такой способ записи короче, но менее читабельный. Не нужно использовать его везде. Есть моменты, в которых он удобен, например, при задании ключа при сортировке (об этом ниже в этом ноутбуке), то етсь, когда вам нужно **передать функцию в другую функцию**"
      ]
    },
    {
      "cell_type": "markdown",
      "metadata": {
        "id": "3V0KEBtp8qs9",
        "colab_type": "text"
      },
      "source": [
        "--------------"
      ]
    },
    {
      "cell_type": "markdown",
      "metadata": {
        "id": "ZaJTlEtC2d2Y",
        "colab_type": "text"
      },
      "source": [
        "### Задание 2\n",
        "\n",
        "Напишите функцию, которая принимает массив и индекс i и возвращает произведение всех элементов массива, находящийхся на этом индексах от 0 до i"
      ]
    },
    {
      "cell_type": "code",
      "metadata": {
        "id": "mDCk7UMa2d2Z",
        "colab_type": "code",
        "outputId": "9c761a91-5a3f-4b13-e330-f11b5b4f1a13",
        "colab": {
          "base_uri": "https://localhost:8080/",
          "height": 34
        }
      },
      "source": [
        "# your code here\n",
        "\n",
        "arr = [1,1,1,6,44,6,8,2]\n",
        "i = 4\n",
        "\n",
        "def mult(ar,i):\n",
        "    res = 1\n",
        "    for k in range(i+1):\n",
        "        res *= ar[k]\n",
        "    return res\n",
        "\n",
        "mult(arr,3)"
      ],
      "execution_count": 0,
      "outputs": [
        {
          "output_type": "execute_result",
          "data": {
            "text/plain": [
              "6"
            ]
          },
          "metadata": {
            "tags": []
          },
          "execution_count": 4
        }
      ]
    },
    {
      "cell_type": "markdown",
      "metadata": {
        "id": "V9DgiraX2d2d",
        "colab_type": "text"
      },
      "source": [
        "\n",
        "------------------"
      ]
    },
    {
      "cell_type": "markdown",
      "metadata": {
        "id": "AEP_z6nS8uzF",
        "colab_type": "text"
      },
      "source": [
        "### Print"
      ]
    },
    {
      "cell_type": "markdown",
      "metadata": {
        "id": "KvGSpU2-8xB4",
        "colab_type": "text"
      },
      "source": [
        "`print(x)`, как известно, выводит на экран содержимое переменной x и далее перевод строки ('\\n'). Но что если мы не хотим, чтобы после вывода x выводился перевод строки? Например, если мы выводим целые числа от 1 до 100 в цикле и не хотим, чтобы каждое число выводилось на новой строке, а, например, хотим вывести их все через пробел.\n",
        "\n",
        "Для этого в print  можно передать аргумент end со значением, которое вы хотите, чтобы выводилось после вывода х:"
      ]
    },
    {
      "cell_type": "code",
      "metadata": {
        "id": "ege7qvE59Yvs",
        "colab_type": "code",
        "outputId": "c96649e6-5cc1-4630-dc95-c26aa1255102",
        "colab": {
          "base_uri": "https://localhost:8080/",
          "height": 34
        }
      },
      "source": [
        "for i in range(1, 10):\n",
        "  # после i будет выводиться пустая строка\n",
        "  # т.е. все числа от 1 до 9 выведутся слитно\n",
        "  print(i, end='')"
      ],
      "execution_count": 0,
      "outputs": [
        {
          "output_type": "stream",
          "text": [
            "123456789"
          ],
          "name": "stdout"
        }
      ]
    },
    {
      "cell_type": "code",
      "metadata": {
        "id": "5FFIt2BV9jOZ",
        "colab_type": "code",
        "outputId": "e74682f6-fb65-466b-e5ed-a86b954db5ed",
        "colab": {
          "base_uri": "https://localhost:8080/",
          "height": 34
        }
      },
      "source": [
        "for i in range(1, 10):\n",
        "  # после i будет выводиться пробел\n",
        "  # т.е. все числа от 1 до 9 выведутся через пробел\n",
        "  print(i, end=' ')"
      ],
      "execution_count": 0,
      "outputs": [
        {
          "output_type": "stream",
          "text": [
            "1 2 3 4 5 6 7 8 9 "
          ],
          "name": "stdout"
        }
      ]
    },
    {
      "cell_type": "code",
      "metadata": {
        "id": "jgX6babr9m1m",
        "colab_type": "code",
        "outputId": "04333c4c-578c-4661-b522-6eaaef7c4ed3",
        "colab": {
          "base_uri": "https://localhost:8080/",
          "height": 34
        }
      },
      "source": [
        "for i in range(1, 10):\n",
        "  # заметьте, что после последнего числа разделитель тоже вывелся\n",
        "  print(i, end='|')"
      ],
      "execution_count": 0,
      "outputs": [
        {
          "output_type": "stream",
          "text": [
            "1|2|3|4|5|6|7|8|9|"
          ],
          "name": "stdout"
        }
      ]
    },
    {
      "cell_type": "markdown",
      "metadata": {
        "id": "VyZMMeIr2d2e",
        "colab_type": "text"
      },
      "source": [
        "### map, filter"
      ]
    },
    {
      "cell_type": "markdown",
      "metadata": {
        "id": "DLRxJkIF2d2f",
        "colab_type": "text"
      },
      "source": [
        "Функция **map(func, iterable)** - выполняет преобразование func над элементами iterable и возвращает новый iterable.\n",
        "\n",
        "Проще говоря, func -- это функция, которая принимает элемент того же типа, что элементы iterable, и возвращает некий элемент (возможно, другого типа). iterable -- некоторый iterable элементов (list, tuple, ...). \n",
        "\n",
        "Пример:"
      ]
    },
    {
      "cell_type": "code",
      "metadata": {
        "id": "dFqQP8K42d2f",
        "colab_type": "code",
        "colab": {}
      },
      "source": [
        "words = ['I', 'am', 'iterable', 'of', 'words']"
      ],
      "execution_count": 0,
      "outputs": []
    },
    {
      "cell_type": "code",
      "metadata": {
        "id": "dczQm2uE2d2j",
        "colab_type": "code",
        "outputId": "5ed293b8-a754-49ff-f12d-045f52b6131c",
        "colab": {
          "base_uri": "https://localhost:8080/",
          "height": 68
        }
      },
      "source": [
        "letter_counts = list(map(lambda x: len(x), words))\n",
        "\n",
        "print(words)\n",
        "print()\n",
        "print(letter_counts)"
      ],
      "execution_count": 0,
      "outputs": [
        {
          "output_type": "stream",
          "text": [
            "['I', 'am', 'iterable', 'of', 'words']\n",
            "\n",
            "[1, 2, 8, 2, 5]\n"
          ],
          "name": "stdout"
        }
      ]
    },
    {
      "cell_type": "markdown",
      "metadata": {
        "id": "x2_JuQNU2d2n",
        "colab_type": "text"
      },
      "source": [
        "Также на место iterable можно поставить сразу несколько iterable -- например, 3 list'a. Тогда функция func должны принимать стлько аргументов, сколько iterable вы передаете, а возвращать все равно один. В func в качестве параметров будут передаваться по одному элементу из каждого iterable.\n",
        "\n",
        "Пример:"
      ]
    },
    {
      "cell_type": "code",
      "metadata": {
        "id": "ylF1J1TAimOA",
        "colab_type": "code",
        "outputId": "779561ac-68e8-45cc-c24a-894e67397cae",
        "colab": {
          "base_uri": "https://localhost:8080/",
          "height": 34
        }
      },
      "source": [
        "[1,2] + [3,4]"
      ],
      "execution_count": 0,
      "outputs": [
        {
          "output_type": "execute_result",
          "data": {
            "text/plain": [
              "[1, 2, 3, 4]"
            ]
          },
          "metadata": {
            "tags": []
          },
          "execution_count": 14
        }
      ]
    },
    {
      "cell_type": "code",
      "metadata": {
        "id": "G3juNWvH2d2o",
        "colab_type": "code",
        "outputId": "69744595-7000-481e-cdca-d19367529aca",
        "colab": {
          "base_uri": "https://localhost:8080/",
          "height": 34
        }
      },
      "source": [
        "list1 = [1,2,3,4]\n",
        "list2 = [11, 12, 13, 14, 15]\n",
        "list3 = [101, 102, 103]\n",
        "\n",
        "triple_sum = list(map(lambda x, y, z: x + y + z, list1, list2, list3))\n",
        "print(triple_sum)"
      ],
      "execution_count": 0,
      "outputs": [
        {
          "output_type": "stream",
          "text": [
            "[113, 116, 119]\n"
          ],
          "name": "stdout"
        }
      ]
    },
    {
      "cell_type": "markdown",
      "metadata": {
        "id": "KV55a46Y2d2q",
        "colab_type": "text"
      },
      "source": [
        "**filter(predicate, iterable)** - оставляет только те элементы из iterable, для которых верен предикат predicate (предикат -- это функция, возвращающая значение типа bool. filter оставляет только те значения x из iterable, для которых predicate(x)==True):"
      ]
    },
    {
      "cell_type": "code",
      "metadata": {
        "id": "vXmqB7tP2d2q",
        "colab_type": "code",
        "outputId": "0231218b-ad56-4fa3-8b13-e47efcc4177f",
        "colab": {
          "base_uri": "https://localhost:8080/",
          "height": 34
        }
      },
      "source": [
        "mixed = ['мак', 'просо', 'мак', 'мак', 'просо', 'мак', 'просо', 'просо', 'просо', 'мак']\n",
        "\n",
        "only_mac = list(filter(lambda x: x == 'мак', mixed))\n",
        "print(only_mac)"
      ],
      "execution_count": 0,
      "outputs": [
        {
          "output_type": "stream",
          "text": [
            "['мак', 'мак', 'мак', 'мак', 'мак']\n"
          ],
          "name": "stdout"
        }
      ]
    },
    {
      "cell_type": "markdown",
      "metadata": {
        "id": "XXPAkPSd2d2u",
        "colab_type": "text"
      },
      "source": [
        "### Задание 3\n",
        "\n",
        "Напишите одну строчку кода, которая из массива целых чисел mas сделает массив, в котором будут числа из массива mas, которые делятся на 3, возведенные в квадрат"
      ]
    },
    {
      "cell_type": "code",
      "metadata": {
        "id": "ht2hqVih2d2u",
        "colab_type": "code",
        "outputId": "b1296148-d8ab-4924-ced0-bc057f32e150",
        "colab": {
          "base_uri": "https://localhost:8080/",
          "height": 34
        }
      },
      "source": [
        "# your code here\n",
        "\n",
        "mas = range(10)\n",
        "list(filter(lambda x: (x*x)%3==0,mas))"
      ],
      "execution_count": 0,
      "outputs": [
        {
          "output_type": "execute_result",
          "data": {
            "text/plain": [
              "[0, 3, 6, 9]"
            ]
          },
          "metadata": {
            "tags": []
          },
          "execution_count": 17
        }
      ]
    },
    {
      "cell_type": "markdown",
      "metadata": {
        "id": "cglQ6JNB2d2v",
        "colab_type": "text"
      },
      "source": [
        "### Задание 4\n",
        "\n",
        "Дан массив строк: ['agfkd.,f', 'Qksdf;sb&..', 'asdoo*', 'bgf...d', 're54()kj[]].']\n",
        "\n",
        "Создайте список, состоящий из количества точек в каждой строке. Выведите его\n",
        "Создайте новый список, в котором будут только строки, в которых более 2-х точек. Выведите его.\n",
        "\n",
        "\n",
        "Циклами пользоваться нельзя."
      ]
    },
    {
      "cell_type": "code",
      "metadata": {
        "id": "ecpr7p9p2d2w",
        "colab_type": "code",
        "outputId": "9af8863b-18b8-4a01-d32d-d8791043adca",
        "colab": {
          "base_uri": "https://localhost:8080/",
          "height": 34
        }
      },
      "source": [
        "# your code here\n",
        "arr = ['agfkd.,f', 'Qksdf;sb&..', 'asdoo*', 'bgf...d', 're54()kj[]].']\n",
        "\n",
        "arr_cnt = list(map(lambda s: s.count('.'),arr))\n",
        "\n",
        "list(filter(lambda s: s.count('.')>2,arr))"
      ],
      "execution_count": 0,
      "outputs": [
        {
          "output_type": "execute_result",
          "data": {
            "text/plain": [
              "['bgf...d']"
            ]
          },
          "metadata": {
            "tags": []
          },
          "execution_count": 3
        }
      ]
    },
    {
      "cell_type": "markdown",
      "metadata": {
        "id": "FtZ6H9sd2d2x",
        "colab_type": "text"
      },
      "source": [
        "-------------"
      ]
    },
    {
      "cell_type": "markdown",
      "metadata": {
        "id": "jxfw8Oia2d2y",
        "colab_type": "text"
      },
      "source": [
        "### files"
      ]
    },
    {
      "cell_type": "markdown",
      "metadata": {
        "id": "wT0VxQFL2d2z",
        "colab_type": "text"
      },
      "source": [
        "Из питона можно работать с файлами, которые лежат на диске -- открывать их, читать содержимое, записывать данные в файл, читать файл построчно."
      ]
    },
    {
      "cell_type": "markdown",
      "metadata": {
        "id": "qRwUksBL2d2z",
        "colab_type": "text"
      },
      "source": [
        "Чтобы открыть файл, нужно указать путь к файлу функции `open`. Путь может быть относительным той директории, в которой находится этот ноутбук, или абсолютным (про пути: http://phpfaq.ru/newbie/paths)\n",
        "\n",
        "Кроме пути к файлу функции open необходимо указать мод, в котором мы откроем файл -- на чтение, на запись, на дозапись и т.п. Ниже приведена таблица со значениями модов. "
      ]
    },
    {
      "cell_type": "markdown",
      "metadata": {
        "id": "Q29f21zO2d20",
        "colab_type": "text"
      },
      "source": [
        "| Режим | Обозначение |\n",
        "|-------|-------------|\n",
        "| **'r'**  | Открытие на **чтение** (является значением по умолчанию) |\n",
        "| **'rb'** | Открытие на **чтение**, в предположении, что будут считываться **байты** |\n",
        "| **'w'** | Открытие на **запись**, содержимое файла удаляется. Если файла не существует, создается новый |\n",
        "| **'wb**' | Открытие на **запись байтов**, содержимое файла удаляется. Если файла не существует, создается новый |\n",
        "| **'a'** | Открытие на **дозапись**, информация добавляется **в конец файла** |\n",
        "| **'r+'** | Открыть файл на **чтение И запись**. Если файла нет, **новый НЕ создаётся** |\n",
        "| **'a+'** | Открыть файл на **чтение И запись в конец файла**. Если файла нет, **новый создаётся** |\n",
        "| **'t'** | Открытие файла **как текстового** (по умолчанию) |"
      ]
    },
    {
      "cell_type": "markdown",
      "metadata": {
        "id": "J3P8al_k2d20",
        "colab_type": "text"
      },
      "source": [
        "Откроем файл с первым ноутбуком по питону:"
      ]
    },
    {
      "cell_type": "code",
      "metadata": {
        "id": "3gn5Zcfz2d21",
        "colab_type": "code",
        "outputId": "1b420553-78a5-4da8-f7eb-e36405f1c471",
        "colab": {
          "base_uri": "https://localhost:8080/",
          "height": 195
        }
      },
      "source": [
        "# первый ноутбук лежит в той же папке, что и этот\n",
        "path = './python_basics.ipynb'\n",
        "# откроем на чтение\n",
        "file = open(path, mode='r')"
      ],
      "execution_count": 0,
      "outputs": [
        {
          "output_type": "error",
          "ename": "FileNotFoundError",
          "evalue": "ignored",
          "traceback": [
            "\u001b[0;31m---------------------------------------------------------------------------\u001b[0m",
            "\u001b[0;31mFileNotFoundError\u001b[0m                         Traceback (most recent call last)",
            "\u001b[0;32m<ipython-input-4-fb2b9fd2d596>\u001b[0m in \u001b[0;36m<module>\u001b[0;34m()\u001b[0m\n\u001b[1;32m      1\u001b[0m \u001b[0mpath\u001b[0m \u001b[0;34m=\u001b[0m \u001b[0;34m'./python_basics.ipynb'\u001b[0m\u001b[0;34m\u001b[0m\u001b[0;34m\u001b[0m\u001b[0m\n\u001b[1;32m      2\u001b[0m \u001b[0;31m# откроем на чтение\u001b[0m\u001b[0;34m\u001b[0m\u001b[0;34m\u001b[0m\u001b[0;34m\u001b[0m\u001b[0m\n\u001b[0;32m----> 3\u001b[0;31m \u001b[0mfile\u001b[0m \u001b[0;34m=\u001b[0m \u001b[0mopen\u001b[0m\u001b[0;34m(\u001b[0m\u001b[0mpath\u001b[0m\u001b[0;34m,\u001b[0m \u001b[0mmode\u001b[0m\u001b[0;34m=\u001b[0m\u001b[0;34m'r'\u001b[0m\u001b[0;34m)\u001b[0m\u001b[0;34m\u001b[0m\u001b[0;34m\u001b[0m\u001b[0m\n\u001b[0m",
            "\u001b[0;31mFileNotFoundError\u001b[0m: [Errno 2] No such file or directory: './python_basics.ipynb'"
          ]
        }
      ]
    },
    {
      "cell_type": "markdown",
      "metadata": {
        "id": "wbTU9stx2d22",
        "colab_type": "text"
      },
      "source": [
        "Теперь мы можем читать из файла. Давайте посмотрим, как читать построчно:"
      ]
    },
    {
      "cell_type": "code",
      "metadata": {
        "id": "uMJs7yDS2d24",
        "colab_type": "code",
        "colab": {}
      },
      "source": [
        "for i, line in enumerate(file): # каждую итерацию цикла в line запишется очередная строка файла \n",
        "    print(line)\n",
        "    # если мы вывели 10 строк, остановим цикл\n",
        "    if i == 10:\n",
        "        break"
      ],
      "execution_count": 0,
      "outputs": []
    },
    {
      "cell_type": "markdown",
      "metadata": {
        "id": "5BC5wCOK2d25",
        "colab_type": "text"
      },
      "source": [
        "Можно прочитать и весь файл целиком:"
      ]
    },
    {
      "cell_type": "code",
      "metadata": {
        "id": "1HcC-IMn2d25",
        "colab_type": "code",
        "colab": {}
      },
      "source": [
        "content = file.read()"
      ],
      "execution_count": 0,
      "outputs": []
    },
    {
      "cell_type": "markdown",
      "metadata": {
        "id": "weee20xd2d27",
        "colab_type": "text"
      },
      "source": [
        "Содержимое файла прочитается и запишется в переменную content в виду строки. Давайте выведем первые 10 ее символов:"
      ]
    },
    {
      "cell_type": "code",
      "metadata": {
        "id": "WkKRy4j62d28",
        "colab_type": "code",
        "colab": {}
      },
      "source": [
        "content[:10]"
      ],
      "execution_count": 0,
      "outputs": []
    },
    {
      "cell_type": "markdown",
      "metadata": {
        "id": "L4_SLVFl2d29",
        "colab_type": "text"
      },
      "source": [
        "Читать файл целиком не целесообразно, если файл большой -- это долго и вы займете слишком много места в оперативной памяти."
      ]
    },
    {
      "cell_type": "markdown",
      "metadata": {
        "id": "-68ZUr-k2d2-",
        "colab_type": "text"
      },
      "source": [
        "Давайте теперь запишем строку \"Hello world!\\n\" в новый файл \"hello.txt\":"
      ]
    },
    {
      "cell_type": "code",
      "metadata": {
        "id": "0dMvTXYx2d2-",
        "colab_type": "code",
        "outputId": "f3dc6d95-598c-4b0f-b522-e3e18cd6becb",
        "colab": {
          "base_uri": "https://localhost:8080/",
          "height": 34
        }
      },
      "source": [
        "file = open(\"hello.txt\", 'w')\n",
        "# метод write возвращает количество записанных символов в файл -- в нашем случае, 13\n",
        "# это нужно, чтобы понимать, все ли записалось, что вы хотели (иногда возникают ошибки записи и пишется не все)\n",
        "file.write('Hello world!\\n')"
      ],
      "execution_count": 0,
      "outputs": [
        {
          "output_type": "execute_result",
          "data": {
            "text/plain": [
              "13"
            ]
          },
          "metadata": {
            "tags": []
          },
          "execution_count": 5
        }
      ]
    },
    {
      "cell_type": "markdown",
      "metadata": {
        "id": "Tc0sK-MI2d2_",
        "colab_type": "text"
      },
      "source": [
        "Теперь можно прочитать этот файл:"
      ]
    },
    {
      "cell_type": "code",
      "metadata": {
        "id": "NaMeUMeF2d3A",
        "colab_type": "code",
        "outputId": "957f92d4-cf08-48b8-8206-1968f41aa072",
        "colab": {
          "base_uri": "https://localhost:8080/",
          "height": 34
        }
      },
      "source": [
        "file = open('hello.txt', 'r')\n",
        "file.read()"
      ],
      "execution_count": 0,
      "outputs": [
        {
          "output_type": "execute_result",
          "data": {
            "text/plain": [
              "'Hello world!\\n'"
            ]
          },
          "metadata": {
            "tags": []
          },
          "execution_count": 6
        }
      ]
    },
    {
      "cell_type": "markdown",
      "metadata": {
        "id": "8ChR-98q2d3B",
        "colab_type": "text"
      },
      "source": [
        "-----------------"
      ]
    },
    {
      "cell_type": "markdown",
      "metadata": {
        "id": "KrCLYmVs2oqL",
        "colab_type": "text"
      },
      "source": [
        "### sort"
      ]
    },
    {
      "cell_type": "markdown",
      "metadata": {
        "id": "anzGJvwo2wL9",
        "colab_type": "text"
      },
      "source": [
        "Как и во многих языках программирования, в Python есть встроенные функции поиска максимума, минимума в массиве, сортировки массива и т.д. \n",
        "\n",
        "Сейчас поговорим о сортировке. \n",
        "\n",
        "Отсортировать iterable просто:"
      ]
    },
    {
      "cell_type": "code",
      "metadata": {
        "id": "VioxREsn2uQW",
        "colab_type": "code",
        "outputId": "85daf2bc-6ecb-4880-c893-9a119e4d0f4c",
        "colab": {
          "base_uri": "https://localhost:8080/",
          "height": 50
        }
      },
      "source": [
        "mas1 = [3, 6, 98, 34, -1, 7]\n",
        "mas2 = ['stroka', 'abcba', 'a', 'bababaa']\n",
        "\n",
        "# sorted НЕ изменяет массив, она возвращает отсортированную копию массива\n",
        "# это, в частности, позволяет сортировать tuple (который нельзя изменять)\n",
        "print(sorted(mas1))\n",
        "print(sorted(mas2))"
      ],
      "execution_count": 0,
      "outputs": [
        {
          "output_type": "stream",
          "text": [
            "[-1, 3, 6, 7, 34, 98]\n",
            "['a', 'abcba', 'bababaa', 'stroka']\n"
          ],
          "name": "stdout"
        }
      ]
    },
    {
      "cell_type": "markdown",
      "metadata": {
        "id": "x_KaMm354aBP",
        "colab_type": "text"
      },
      "source": [
        "При этом, как видно, по умолчанию массив из чисел сортируется по возрастанию, массив строк -- в алфавитном порядке.\n",
        "\n",
        "Что можно сделать, если мы хотим отсортировать массив не так, как его сортирует `sorted` по умолчанию?\n",
        "\n",
        "Оказывается, в sorted можно передать аргумент `key` -- ключ, по которому мы хотим отсортировать наш массив. Рассмотрим пример: пусть у нас есть массив пар (кортежей размера 2) и мы хотим отсортировать его по **второму** элементу кортежа:"
      ]
    },
    {
      "cell_type": "code",
      "metadata": {
        "id": "qe7cOxQm5Bhq",
        "colab_type": "code",
        "colab": {}
      },
      "source": [
        "t = [(4, 5), (97, 2), (8, 291), (-1, 67), (98, -10), (8, 34)]"
      ],
      "execution_count": 0,
      "outputs": []
    },
    {
      "cell_type": "markdown",
      "metadata": {
        "id": "ariklxy95JwF",
        "colab_type": "text"
      },
      "source": [
        "Если мы просто вызовем sorted, то получим следующее: массив отсортируется по первому элементу кортежей, а если первые элементы двух кортежей равны, то первым будет тот, у которого второй элемент меньше:"
      ]
    },
    {
      "cell_type": "code",
      "metadata": {
        "id": "UxRhdj2L5JEy",
        "colab_type": "code",
        "outputId": "1b9f78a7-2886-450d-dcbd-c2a2ca3634b6",
        "colab": {
          "base_uri": "https://localhost:8080/",
          "height": 34
        }
      },
      "source": [
        "sorted(t)"
      ],
      "execution_count": 0,
      "outputs": [
        {
          "output_type": "execute_result",
          "data": {
            "text/plain": [
              "[(-1, 67), (4, 5), (8, 34), (8, 291), (97, 2), (98, -10)]"
            ]
          },
          "metadata": {
            "tags": []
          },
          "execution_count": 9
        }
      ]
    },
    {
      "cell_type": "markdown",
      "metadata": {
        "id": "_ARTmNd85Zgf",
        "colab_type": "text"
      },
      "source": [
        "Но это не то, что мы хотели, мы хотели отсортировать массив по второму элементу кортежей. \n",
        "\n",
        "Вот как это сделать с помощью передачи ключа сортировки в sorted:"
      ]
    },
    {
      "cell_type": "code",
      "metadata": {
        "id": "WBOspLlf5Ytt",
        "colab_type": "code",
        "outputId": "a25a6734-e5e5-427a-d6a1-0932a1c7467c",
        "colab": {
          "base_uri": "https://localhost:8080/",
          "height": 34
        }
      },
      "source": [
        "sorted(t, key=lambda x: x[1])"
      ],
      "execution_count": 0,
      "outputs": [
        {
          "output_type": "execute_result",
          "data": {
            "text/plain": [
              "[(98, -10), (97, 2), (4, 5), (8, 34), (-1, 67), (8, 291)]"
            ]
          },
          "metadata": {
            "tags": []
          },
          "execution_count": 10
        }
      ]
    },
    {
      "cell_type": "markdown",
      "metadata": {
        "id": "8R9RUUVt6pGh",
        "colab_type": "text"
      },
      "source": [
        "В качестве значения `key` нужно передать функцию, которая принимает элемент iterable, который сы сортируем (в нашем случае это tuple) и возвращает значение, по которому будет выполняться сортировка (в нашем случае возвращаемое значение -- x[1] -- первый элемент кортежа)"
      ]
    },
    {
      "cell_type": "markdown",
      "metadata": {
        "id": "blYetp6z7Cba",
        "colab_type": "text"
      },
      "source": [
        "Также у list есть метод `sort`, который выполняет сортировку массива, **изменяя сам массив**:"
      ]
    },
    {
      "cell_type": "code",
      "metadata": {
        "id": "s0184doI6omu",
        "colab_type": "code",
        "outputId": "1c4f1990-fba9-4042-d70c-d06f6255125a",
        "colab": {
          "base_uri": "https://localhost:8080/",
          "height": 34
        }
      },
      "source": [
        "t = [(4, 5), (97, 2), (8, 291), (-1, 67), (98, -10), (8, 34)]\n",
        "t.sort()\n",
        "t"
      ],
      "execution_count": 0,
      "outputs": [
        {
          "output_type": "execute_result",
          "data": {
            "text/plain": [
              "[(-1, 67), (4, 5), (8, 34), (8, 291), (97, 2), (98, -10)]"
            ]
          },
          "metadata": {
            "tags": []
          },
          "execution_count": 11
        }
      ]
    },
    {
      "cell_type": "markdown",
      "metadata": {
        "id": "DQuGaVmY7Ud1",
        "colab_type": "text"
      },
      "source": [
        "В .sort() также пожно передавать ключ сортировки."
      ]
    },
    {
      "cell_type": "markdown",
      "metadata": {
        "id": "ba4m15HQ2d3C",
        "colab_type": "text"
      },
      "source": [
        "### модуль collections\n",
        "\n",
        "Collections -- это модуль (библиотека), где реализованы многие полезные функции. Подробнее можно прочитать в документации, а сейчас познакомимся с двумя самыми часто используемыми вещами оттуда."
      ]
    },
    {
      "cell_type": "code",
      "metadata": {
        "id": "SlH7vb7d2d3C",
        "colab_type": "code",
        "colab": {}
      },
      "source": [
        "import collections"
      ],
      "execution_count": 0,
      "outputs": []
    },
    {
      "cell_type": "markdown",
      "metadata": {
        "id": "Hvn6ThiR2d3D",
        "colab_type": "text"
      },
      "source": [
        "**defaultdict()** - класс словаря, у которого есть значение по умолчанию. По сути, это тот же dict со всеми его функциями и свойствами, но у defaultdict есть значение по умолчанию: в обычном dict, если мы предварительно не положили в него какое-нибудь значение по ключу key, попытка получить значение по ключу key обкрнется ошибкой:"
      ]
    },
    {
      "cell_type": "code",
      "metadata": {
        "id": "vX1ei1FM2d3D",
        "colab_type": "code",
        "outputId": "8c55d732-b3b5-424a-ef06-2bada4623610",
        "colab": {
          "base_uri": "https://localhost:8080/",
          "height": 178
        }
      },
      "source": [
        "d = dict()\n",
        "d['key']"
      ],
      "execution_count": 0,
      "outputs": [
        {
          "output_type": "error",
          "ename": "KeyError",
          "evalue": "ignored",
          "traceback": [
            "\u001b[0;31m---------------------------------------------------------------------------\u001b[0m",
            "\u001b[0;31mKeyError\u001b[0m                                  Traceback (most recent call last)",
            "\u001b[0;32m<ipython-input-13-2694750d3286>\u001b[0m in \u001b[0;36m<module>\u001b[0;34m()\u001b[0m\n\u001b[1;32m      1\u001b[0m \u001b[0md\u001b[0m \u001b[0;34m=\u001b[0m \u001b[0mdict\u001b[0m\u001b[0;34m(\u001b[0m\u001b[0;34m)\u001b[0m\u001b[0;34m\u001b[0m\u001b[0;34m\u001b[0m\u001b[0m\n\u001b[0;32m----> 2\u001b[0;31m \u001b[0md\u001b[0m\u001b[0;34m[\u001b[0m\u001b[0;34m'key'\u001b[0m\u001b[0;34m]\u001b[0m\u001b[0;34m\u001b[0m\u001b[0;34m\u001b[0m\u001b[0m\n\u001b[0m",
            "\u001b[0;31mKeyError\u001b[0m: 'key'"
          ]
        }
      ]
    },
    {
      "cell_type": "markdown",
      "metadata": {
        "id": "CVCJ6Knk2d3F",
        "colab_type": "text"
      },
      "source": [
        "в defaultdict при объявлении словаря мы задаем значение, которое будет присваиваться по умолчанию всем ключам, которые мы не клали в словарь руками: "
      ]
    },
    {
      "cell_type": "code",
      "metadata": {
        "id": "epDRfeQl2d3F",
        "colab_type": "code",
        "outputId": "11c5d3a0-bf3e-4b30-e062-6534532b776c",
        "colab": {
          "base_uri": "https://localhost:8080/",
          "height": 34
        }
      },
      "source": [
        "defaultd = collections.defaultdict(int) \n",
        "# теперь всем ключам defaultd будет присвиваться значение по умолчанию типа int, т.е. 0\n",
        "\n",
        "defaultd['key']"
      ],
      "execution_count": 0,
      "outputs": [
        {
          "output_type": "execute_result",
          "data": {
            "text/plain": [
              "0"
            ]
          },
          "metadata": {
            "tags": []
          },
          "execution_count": 14
        }
      ]
    },
    {
      "cell_type": "markdown",
      "metadata": {
        "id": "4zH1CPNq2d3G",
        "colab_type": "text"
      },
      "source": [
        "Еще примеры defaultdict:"
      ]
    },
    {
      "cell_type": "code",
      "metadata": {
        "id": "ehQwPtSJ2d3G",
        "colab_type": "code",
        "outputId": "23647414-d64d-4374-9b86-cabc5f469547",
        "colab": {
          "base_uri": "https://localhost:8080/",
          "height": 50
        }
      },
      "source": [
        "d = collections.defaultdict(lambda: 'empty')\n",
        "print(d['key'])\n",
        "\n",
        "d['key'] = 'full'\n",
        "print(d['key'])"
      ],
      "execution_count": 0,
      "outputs": [
        {
          "output_type": "stream",
          "text": [
            "empty\n",
            "full\n"
          ],
          "name": "stdout"
        }
      ]
    },
    {
      "cell_type": "code",
      "metadata": {
        "id": "iF3WUZS_2d3H",
        "colab_type": "code",
        "outputId": "f1b0a12a-6c49-40c0-ded9-a4b052f53bd6",
        "colab": {
          "base_uri": "https://localhost:8080/",
          "height": 67
        }
      },
      "source": [
        "d = collections.defaultdict(list)\n",
        "print(d)\n",
        "\n",
        "d['list1'].append(100)\n",
        "d['list1'].append(200)\n",
        "print(d)\n",
        "print(d['list1'])"
      ],
      "execution_count": 0,
      "outputs": [
        {
          "output_type": "stream",
          "text": [
            "defaultdict(<class 'list'>, {})\n",
            "defaultdict(<class 'list'>, {'list1': [100, 200]})\n",
            "[100, 200]\n"
          ],
          "name": "stdout"
        }
      ]
    },
    {
      "cell_type": "markdown",
      "metadata": {
        "id": "eUsb88vg2d3I",
        "colab_type": "text"
      },
      "source": [
        "**Counter()** -- это defaultdict(int). Вынесен в отдельную сущность, потому что именно этот тип defaultdict чаще всего используется, когда нужен **счетчик** чего-либо. "
      ]
    },
    {
      "cell_type": "code",
      "metadata": {
        "id": "q9x_2Zow2d3I",
        "colab_type": "code",
        "colab": {
          "base_uri": "https://localhost:8080/",
          "height": 34
        },
        "outputId": "ef1eee17-ba6d-49e9-cdee-2f0e606fd422"
      },
      "source": [
        "counter = collections.Counter()\n",
        "\n",
        "for word in [\"one\", \"two\", \"three\", \"four\", \"five\"]:\n",
        "    for letter in word:\n",
        "        counter[letter] += 1  # или .update(value)\n",
        "    \n",
        "print(counter)"
      ],
      "execution_count": 3,
      "outputs": [
        {
          "output_type": "stream",
          "text": [
            "Counter({'e': 4, 'o': 3, 't': 2, 'r': 2, 'f': 2, 'n': 1, 'w': 1, 'h': 1, 'u': 1, 'i': 1, 'v': 1})\n"
          ],
          "name": "stdout"
        }
      ]
    },
    {
      "cell_type": "markdown",
      "metadata": {
        "id": "4EVeUCtI2d3J",
        "colab_type": "text"
      },
      "source": [
        "### Задание 5\n",
        "\n",
        "1. Создайте словарь счётчиков\n",
        "\n",
        "2. Создайте переменную, в которую сохраните все пути к нужным текстовым файлам (расположены по адресу './20_newsgroups/sci.space/', папка лежит в гугл-доке)\n",
        "3. Для каждого текста (текстового файла) посчитайте сколько каждое слово (из этого текста) встретилось в этом тексте (используйте предыдущие пункты)"
      ]
    },
    {
      "cell_type": "code",
      "metadata": {
        "id": "zs_io26_EK6g",
        "colab_type": "code",
        "colab": {}
      },
      "source": [
        "\n",
        "  "
      ],
      "execution_count": 0,
      "outputs": []
    },
    {
      "cell_type": "code",
      "metadata": {
        "id": "7Az7jtUa2d3J",
        "colab_type": "code",
        "colab": {
          "base_uri": "https://localhost:8080/",
          "height": 406
        },
        "outputId": "694cdbd7-ddbf-4f1c-d01e-dfd27f1a496c"
      },
      "source": [
        "# your code here\n",
        "\n",
        "import collections\n",
        "\n",
        "# создадим файлы \n",
        "\n",
        "ar = [] \n",
        "counter = collections.Counter()\n",
        "files = []\n",
        "ar.append('sf dg fgh hgj fgh\\nsdf;lk; ;lklkjlj ooui oiohnd kjhkjhsdf sfgkj\\nsdlfkljf jhgjhg sdf ghfg er f')\n",
        "ar.append('qweq qweq апвап ркер укекен раоп\\n lgfkdjsdlgkj dfkjasjh jhsdgkjhsfd\\nwetrlklkj dlk jkjh kb  lk,m n,mn')\n",
        "ar.append('dfg dg gfhj fdg wsfg\\nf dfgh dfgdfg hdyu dfgh df\\nfg sdafsfhgertgs fg \\n dfgsdfgsfdg dfs wergsgf')\n",
        "for num,text in enumerate(ar):\n",
        "    file_name = \"file_\" + str(num) + \".txt\"\n",
        "    files.append(file_name)\n",
        "    fp = open(file_name,\"w\")\n",
        "    fp.write(text)\n",
        "    fp.close()\n",
        "\n",
        "    \n",
        "! ls -l\n",
        "\n",
        "# читаем файлы поочередно\n",
        "\n",
        "\n",
        "\n",
        "for file_name in files:\n",
        "    print(\"------------------\")\n",
        "    fp = open(file_name,\"r\")\n",
        "    text = fp.read()\n",
        "    print(file_name,len(text))\n",
        "    print(text)\n",
        "    for word in text.replace('\\n',' ').split():\n",
        "        counter[word] += 1\n",
        "print(counter)    "
      ],
      "execution_count": 14,
      "outputs": [
        {
          "output_type": "stream",
          "text": [
            "total 16\n",
            "-rw-r--r-- 1 root root   92 Oct  5 09:01 file_0.txt\n",
            "-rw-r--r-- 1 root root  119 Oct  5 09:01 file_1.txt\n",
            "-rw-r--r-- 1 root root   93 Oct  5 09:01 file_2.txt\n",
            "drwxr-xr-x 1 root root 4096 Aug 27 16:17 sample_data\n",
            "------------------\n",
            "file_0.txt 92\n",
            "sf dg fgh hgj fgh\n",
            "sdf;lk; ;lklkjlj ooui oiohnd kjhkjhsdf sfgkj\n",
            "sdlfkljf jhgjhg sdf ghfg er f\n",
            "------------------\n",
            "file_1.txt 100\n",
            "qweq qweq апвап ркер укекен раоп\n",
            " lgfkdjsdlgkj dfkjasjh jhsdgkjhsfd\n",
            "wetrlklkj dlk jkjh kb  lk,m n,mn\n",
            "------------------\n",
            "file_2.txt 93\n",
            "dfg dg gfhj fdg wsfg\n",
            "f dfgh dfgdfg hdyu dfgh df\n",
            "fg sdafsfhgertgs fg \n",
            " dfgsdfgsfdg dfs wergsgf\n",
            "Counter({'dg': 2, 'fgh': 2, 'f': 2, 'qweq': 2, 'dfgh': 2, 'fg': 2, 'sf': 1, 'hgj': 1, 'sdf;lk;': 1, ';lklkjlj': 1, 'ooui': 1, 'oiohnd': 1, 'kjhkjhsdf': 1, 'sfgkj': 1, 'sdlfkljf': 1, 'jhgjhg': 1, 'sdf': 1, 'ghfg': 1, 'er': 1, 'апвап': 1, 'ркер': 1, 'укекен': 1, 'раоп': 1, 'lgfkdjsdlgkj': 1, 'dfkjasjh': 1, 'jhsdgkjhsfd': 1, 'wetrlklkj': 1, 'dlk': 1, 'jkjh': 1, 'kb': 1, 'lk,m': 1, 'n,mn': 1, 'dfg': 1, 'gfhj': 1, 'fdg': 1, 'wsfg': 1, 'dfgdfg': 1, 'hdyu': 1, 'df': 1, 'sdafsfhgertgs': 1, 'dfgsdfgsfdg': 1, 'dfs': 1, 'wergsgf': 1})\n"
          ],
          "name": "stdout"
        }
      ]
    },
    {
      "cell_type": "markdown",
      "metadata": {
        "id": "J8MWVZOW2d3L",
        "colab_type": "text"
      },
      "source": [
        "-------------"
      ]
    },
    {
      "cell_type": "markdown",
      "metadata": {
        "id": "sNRgMcED2d3L",
        "colab_type": "text"
      },
      "source": [
        "### tqdm"
      ]
    },
    {
      "cell_type": "markdown",
      "metadata": {
        "id": "nQn1_T4K2d3M",
        "colab_type": "text"
      },
      "source": [
        "Удобный виджет для jupyter notebook, который позволяет отслеживать выполнение циклов"
      ]
    },
    {
      "cell_type": "markdown",
      "metadata": {
        "id": "Jn4gCHDh2d3M",
        "colab_type": "text"
      },
      "source": [
        "Установка:\n",
        "    \n",
        "1. Устанавливаем виджеты:\n",
        "\n",
        "    pip install ipywidgets\n",
        "    (или conda install -c conda-forge ipywidgets)\n",
        "\n",
        "2. Разрешаем их использование в Jupyter Notebook:\n",
        "\n",
        "    jupyter nbextension enable --py --sys-prefix widgetsnbextension\n",
        "\n",
        "3. Перезагружаем ядро (Restart Kernel)\n",
        "\n",
        "4. Устанавливаем tqdm:\n",
        "\n",
        "    pip install tqdm\n",
        "    (или conda install -c conda-forge tqdm)\n",
        "\n",
        "\n",
        "Больше про tqdm: https://pypi.python.org/pypi/tqdm"
      ]
    },
    {
      "cell_type": "code",
      "metadata": {
        "id": "ZU4bShoB2d3M",
        "colab_type": "code",
        "colab": {}
      },
      "source": [
        "from tqdm import tqdm\n",
        "from tqdm import tnrange, tqdm_notebook\n",
        "from time import sleep"
      ],
      "execution_count": 0,
      "outputs": []
    },
    {
      "cell_type": "code",
      "metadata": {
        "id": "U3y7GtP32d3O",
        "colab_type": "code",
        "colab": {
          "base_uri": "https://localhost:8080/",
          "height": 34
        },
        "outputId": "9c8fe900-e7d1-4d98-81b8-4aaeaf0ec28a"
      },
      "source": [
        "# запустите ячейку, чтобы увидеть tqdm в действии\n",
        "cnt = 0\n",
        "for i in tqdm(range(1000)):\n",
        "    sleep(0.01)\n",
        "    cnt += 1"
      ],
      "execution_count": 16,
      "outputs": [
        {
          "output_type": "stream",
          "text": [
            "100%|██████████| 1000/1000 [00:10<00:00, 97.64it/s]\n"
          ],
          "name": "stderr"
        }
      ]
    },
    {
      "cell_type": "code",
      "metadata": {
        "id": "gsEpE4Z32d3O",
        "colab_type": "code",
        "colab": {
          "base_uri": "https://localhost:8080/",
          "height": 34
        },
        "outputId": "56284dd2-3945-4bfc-c0d9-0843a31d78e4"
      },
      "source": [
        "# запустите ячейку, чтобы увидеть tqdm в действии\n",
        "for i in tnrange(10, desc='1st loop'):\n",
        "    for j in tqdm_notebook(range(100), desc='2nd loop', leave=False):\n",
        "        sleep(0.01)"
      ],
      "execution_count": 17,
      "outputs": [
        {
          "output_type": "display_data",
          "data": {
            "application/vnd.jupyter.widget-view+json": {
              "model_id": "ff716c52d7d94b7ba577ff2d97e9af0a",
              "version_minor": 0,
              "version_major": 2
            },
            "text/plain": [
              "HBox(children=(IntProgress(value=0, description='1st loop', max=10, style=ProgressStyle(description_width='ini…"
            ]
          },
          "metadata": {
            "tags": []
          }
        },
        {
          "output_type": "display_data",
          "data": {
            "application/vnd.jupyter.widget-view+json": {
              "model_id": "a3e793e3bcc64b14b4820b0f0d563fb9",
              "version_minor": 0,
              "version_major": 2
            },
            "text/plain": [
              "HBox(children=(IntProgress(value=0, description='2nd loop', style=ProgressStyle(description_width='initial')),…"
            ]
          },
          "metadata": {
            "tags": []
          }
        },
        {
          "output_type": "display_data",
          "data": {
            "application/vnd.jupyter.widget-view+json": {
              "model_id": "cc7737d1c4e840f7b273cb62121a8a2f",
              "version_minor": 0,
              "version_major": 2
            },
            "text/plain": [
              "HBox(children=(IntProgress(value=0, description='2nd loop', style=ProgressStyle(description_width='initial')),…"
            ]
          },
          "metadata": {
            "tags": []
          }
        },
        {
          "output_type": "display_data",
          "data": {
            "application/vnd.jupyter.widget-view+json": {
              "model_id": "df0661430fee467c8078108d2596a176",
              "version_minor": 0,
              "version_major": 2
            },
            "text/plain": [
              "HBox(children=(IntProgress(value=0, description='2nd loop', style=ProgressStyle(description_width='initial')),…"
            ]
          },
          "metadata": {
            "tags": []
          }
        },
        {
          "output_type": "display_data",
          "data": {
            "application/vnd.jupyter.widget-view+json": {
              "model_id": "b27f0fba48ed4c8b91f2d81a6b1a9c0d",
              "version_minor": 0,
              "version_major": 2
            },
            "text/plain": [
              "HBox(children=(IntProgress(value=0, description='2nd loop', style=ProgressStyle(description_width='initial')),…"
            ]
          },
          "metadata": {
            "tags": []
          }
        },
        {
          "output_type": "display_data",
          "data": {
            "application/vnd.jupyter.widget-view+json": {
              "model_id": "9e0601379b574085ae2b7bf714f43760",
              "version_minor": 0,
              "version_major": 2
            },
            "text/plain": [
              "HBox(children=(IntProgress(value=0, description='2nd loop', style=ProgressStyle(description_width='initial')),…"
            ]
          },
          "metadata": {
            "tags": []
          }
        },
        {
          "output_type": "display_data",
          "data": {
            "application/vnd.jupyter.widget-view+json": {
              "model_id": "63470fd340834b67bc180f5fac01ff71",
              "version_minor": 0,
              "version_major": 2
            },
            "text/plain": [
              "HBox(children=(IntProgress(value=0, description='2nd loop', style=ProgressStyle(description_width='initial')),…"
            ]
          },
          "metadata": {
            "tags": []
          }
        },
        {
          "output_type": "display_data",
          "data": {
            "application/vnd.jupyter.widget-view+json": {
              "model_id": "f650009ef4ff452aa0e3d92b1c8cf4bf",
              "version_minor": 0,
              "version_major": 2
            },
            "text/plain": [
              "HBox(children=(IntProgress(value=0, description='2nd loop', style=ProgressStyle(description_width='initial')),…"
            ]
          },
          "metadata": {
            "tags": []
          }
        },
        {
          "output_type": "display_data",
          "data": {
            "application/vnd.jupyter.widget-view+json": {
              "model_id": "c6d548dec1ba49a2a527107cc30f43f1",
              "version_minor": 0,
              "version_major": 2
            },
            "text/plain": [
              "HBox(children=(IntProgress(value=0, description='2nd loop', style=ProgressStyle(description_width='initial')),…"
            ]
          },
          "metadata": {
            "tags": []
          }
        },
        {
          "output_type": "display_data",
          "data": {
            "application/vnd.jupyter.widget-view+json": {
              "model_id": "465a2be176b74ac0bce1a10eb71c640b",
              "version_minor": 0,
              "version_major": 2
            },
            "text/plain": [
              "HBox(children=(IntProgress(value=0, description='2nd loop', style=ProgressStyle(description_width='initial')),…"
            ]
          },
          "metadata": {
            "tags": []
          }
        },
        {
          "output_type": "display_data",
          "data": {
            "application/vnd.jupyter.widget-view+json": {
              "model_id": "84b09239ed4d45c0b473a9438abf636c",
              "version_minor": 0,
              "version_major": 2
            },
            "text/plain": [
              "HBox(children=(IntProgress(value=0, description='2nd loop', style=ProgressStyle(description_width='initial')),…"
            ]
          },
          "metadata": {
            "tags": []
          }
        },
        {
          "output_type": "stream",
          "text": [
            "\n"
          ],
          "name": "stdout"
        }
      ]
    },
    {
      "cell_type": "code",
      "metadata": {
        "id": "_JkaXrpd2d3P",
        "colab_type": "code",
        "colab": {}
      },
      "source": [
        ""
      ],
      "execution_count": 0,
      "outputs": []
    }
  ]
}