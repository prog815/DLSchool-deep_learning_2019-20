{
  "nbformat": 4,
  "nbformat_minor": 0,
  "metadata": {
    "kernelspec": {
      "display_name": "Python 3",
      "language": "python",
      "name": "python3"
    },
    "language_info": {
      "codemirror_mode": {
        "name": "ipython",
        "version": 3
      },
      "file_extension": ".py",
      "mimetype": "text/x-python",
      "name": "python",
      "nbconvert_exporter": "python",
      "pygments_lexer": "ipython3",
      "version": "3.6.8"
    },
    "colab": {
      "name": "[seminar, prodv]4_pandas.ipynb",
      "provenance": [],
      "toc_visible": true,
      "include_colab_link": true
    }
  },
  "cells": [
    {
      "cell_type": "markdown",
      "metadata": {
        "id": "view-in-github",
        "colab_type": "text"
      },
      "source": [
        "<a href=\"https://colab.research.google.com/github/prog815/DLSchool-deep_learning_2019-20/blob/master/%5Bseminar%2C_prodv%5D4_pandas.ipynb\" target=\"_parent\"><img src=\"https://colab.research.google.com/assets/colab-badge.svg\" alt=\"Open In Colab\"/></a>"
      ]
    },
    {
      "cell_type": "markdown",
      "metadata": {
        "id": "PQrmtyBc4dB7",
        "colab_type": "text"
      },
      "source": [
        "<p style=\"align: center;\"><img align=center src=\"https://s8.hostingkartinok.com/uploads/images/2018/08/308b49fcfbc619d629fe4604bceb67ac.jpg\" width=500 height=450/></p>\n",
        "\n",
        "<h3 style=\"text-align: center;\"><b>\"Глубокое обучение\". Продвинутый поток</b></h3>\n",
        "\n",
        "<h2 style=\"text-align: center;\"><b>День 3. Библиотека <a href=\"http://pandas.pydata.org/\">pandas</a></b></h2>"
      ]
    },
    {
      "cell_type": "markdown",
      "metadata": {
        "id": "UZSh9giZ4dCm",
        "colab_type": "text"
      },
      "source": [
        "Библиотека `pandas` активно используется в современном data science для работы с данными, которые могут быть представлены в виде таблиц (а это очень, очень большая часть данных)"
      ]
    },
    {
      "cell_type": "markdown",
      "metadata": {
        "id": "pesvo2Bh4dCx",
        "colab_type": "text"
      },
      "source": [
        "`pandas` есть в пакете Anaconda, но если вдруг у Вас её по каким-то причинам нет, то можно установить, раскомментировав следующую команду:"
      ]
    },
    {
      "cell_type": "code",
      "metadata": {
        "id": "WHmbkSPX4dC0",
        "colab_type": "code",
        "colab": {}
      },
      "source": [
        "# !pip install numpy pandas"
      ],
      "execution_count": 0,
      "outputs": []
    },
    {
      "cell_type": "code",
      "metadata": {
        "id": "oEpUOkt_4dC5",
        "colab_type": "code",
        "colab": {}
      },
      "source": [
        "import numpy as np\n",
        "import pandas as pd"
      ],
      "execution_count": 0,
      "outputs": []
    },
    {
      "cell_type": "markdown",
      "metadata": {
        "id": "nLh0Eixb4dC_",
        "colab_type": "text"
      },
      "source": [
        "## pd.Series"
      ]
    },
    {
      "cell_type": "markdown",
      "metadata": {
        "id": "3S0_Kyzu4dDB",
        "colab_type": "text"
      },
      "source": [
        "Одномерный набор данных. Похож на `np.ndarray`, но с более расширенным функционалом"
      ]
    },
    {
      "cell_type": "code",
      "metadata": {
        "id": "PX7LmtHj4dDD",
        "colab_type": "code",
        "colab": {}
      },
      "source": [
        "np.random.seed(42)"
      ],
      "execution_count": 0,
      "outputs": []
    },
    {
      "cell_type": "code",
      "metadata": {
        "id": "pPx_aqz-4dDF",
        "colab_type": "code",
        "outputId": "79cb3561-37a0-4e80-c4a9-ca43e9839950",
        "colab": {
          "base_uri": "https://localhost:8080/",
          "height": 34
        }
      },
      "source": [
        "np_array = np.random.randint(low=-15, high=20, size=4)\n",
        "np_array"
      ],
      "execution_count": 4,
      "outputs": [
        {
          "output_type": "execute_result",
          "data": {
            "text/plain": [
              "array([ 3,  7, -5, -5])"
            ]
          },
          "metadata": {
            "tags": []
          },
          "execution_count": 4
        }
      ]
    },
    {
      "cell_type": "code",
      "metadata": {
        "id": "jPuV-sFF4dDU",
        "colab_type": "code",
        "outputId": "bde76e19-692f-4faf-c475-945e4448a2b1",
        "colab": {
          "base_uri": "https://localhost:8080/",
          "height": 102
        }
      },
      "source": [
        "# Series можно сделать из массива\n",
        "pd_series_1 = pd.Series(np_array)\n",
        "pd_series_1"
      ],
      "execution_count": 5,
      "outputs": [
        {
          "output_type": "execute_result",
          "data": {
            "text/plain": [
              "0    3\n",
              "1    7\n",
              "2   -5\n",
              "3   -5\n",
              "dtype: int64"
            ]
          },
          "metadata": {
            "tags": []
          },
          "execution_count": 5
        }
      ]
    },
    {
      "cell_type": "code",
      "metadata": {
        "id": "3ecEsd814dDf",
        "colab_type": "code",
        "outputId": "098ec107-c8b7-47e3-b805-f6401f128999",
        "colab": {
          "base_uri": "https://localhost:8080/",
          "height": 102
        }
      },
      "source": [
        "# Так же можно аннотировать индексы, чтобы потом было более удобно обращаться к элементам\n",
        "pd_series_2 = pd.Series(np_array, index=['1st day', '2nd day', '3rd day', '4th day'])\n",
        "pd_series_2"
      ],
      "execution_count": 6,
      "outputs": [
        {
          "output_type": "execute_result",
          "data": {
            "text/plain": [
              "1st day    3\n",
              "2nd day    7\n",
              "3rd day   -5\n",
              "4th day   -5\n",
              "dtype: int64"
            ]
          },
          "metadata": {
            "tags": []
          },
          "execution_count": 6
        }
      ]
    },
    {
      "cell_type": "code",
      "metadata": {
        "id": "k_O3NN0N4dDz",
        "colab_type": "code",
        "outputId": "ae741967-ebb4-4ace-bd37-633d23bf98e2",
        "colab": {
          "base_uri": "https://localhost:8080/",
          "height": 34
        }
      },
      "source": [
        "pd_series_2['4th day']"
      ],
      "execution_count": 7,
      "outputs": [
        {
          "output_type": "execute_result",
          "data": {
            "text/plain": [
              "-5"
            ]
          },
          "metadata": {
            "tags": []
          },
          "execution_count": 7
        }
      ]
    },
    {
      "cell_type": "code",
      "metadata": {
        "id": "DwBmuWWB4dD-",
        "colab_type": "code",
        "outputId": "4aafd622-5368-420e-8a04-289e8e8cfd62",
        "colab": {
          "base_uri": "https://localhost:8080/",
          "height": 102
        }
      },
      "source": [
        "# А еще можно дать pd.Series имя, чтобы было совсем красиво\n",
        "pd_series_3 = pd.Series(np_array, index=['1st day', '2nd day', '3rd day', '4th day'], name='Temperature')\n",
        "pd_series_3"
      ],
      "execution_count": 9,
      "outputs": [
        {
          "output_type": "execute_result",
          "data": {
            "text/plain": [
              "1st day    3\n",
              "2nd day    7\n",
              "3rd day   -5\n",
              "4th day   -5\n",
              "Name: Temperature, dtype: int64"
            ]
          },
          "metadata": {
            "tags": []
          },
          "execution_count": 9
        }
      ]
    },
    {
      "cell_type": "code",
      "metadata": {
        "id": "A4hQd-Of4dEF",
        "colab_type": "code",
        "outputId": "47a7dedf-e0a6-49eb-fff2-5425f141d7fa",
        "colab": {
          "base_uri": "https://localhost:8080/",
          "height": 204
        }
      },
      "source": [
        "# с индексами можно работать так же, как и в случае с обычным list\n",
        "print(pd_series_3[0])\n",
        "print('*'*5)\n",
        "print(pd_series_3[1:3])\n",
        "print('*'*5)\n",
        "print(pd_series_3[::-1])"
      ],
      "execution_count": 10,
      "outputs": [
        {
          "output_type": "stream",
          "text": [
            "3\n",
            "*****\n",
            "2nd day    7\n",
            "3rd day   -5\n",
            "Name: Temperature, dtype: int64\n",
            "*****\n",
            "4th day   -5\n",
            "3rd day   -5\n",
            "2nd day    7\n",
            "1st day    3\n",
            "Name: Temperature, dtype: int64\n"
          ],
          "name": "stdout"
        }
      ]
    },
    {
      "cell_type": "markdown",
      "metadata": {
        "id": "Evujjel44dEP",
        "colab_type": "text"
      },
      "source": [
        "`series` можно отсортировать как по значениям, так и по индексу"
      ]
    },
    {
      "cell_type": "code",
      "metadata": {
        "id": "rGWJOQ1C4dER",
        "colab_type": "code",
        "outputId": "677641cf-30b1-400d-fc2b-d3ff87b3686a",
        "colab": {
          "base_uri": "https://localhost:8080/",
          "height": 102
        }
      },
      "source": [
        "pd_series_3.sort_index()"
      ],
      "execution_count": 11,
      "outputs": [
        {
          "output_type": "execute_result",
          "data": {
            "text/plain": [
              "1st day    3\n",
              "2nd day    7\n",
              "3rd day   -5\n",
              "4th day   -5\n",
              "Name: Temperature, dtype: int64"
            ]
          },
          "metadata": {
            "tags": []
          },
          "execution_count": 11
        }
      ]
    },
    {
      "cell_type": "code",
      "metadata": {
        "id": "TGbjDN9J4dEW",
        "colab_type": "code",
        "outputId": "8a701b04-0766-465b-a389-fdc8d4616eb2",
        "colab": {
          "base_uri": "https://localhost:8080/",
          "height": 102
        }
      },
      "source": [
        "pd_series_3.sort_values()"
      ],
      "execution_count": 12,
      "outputs": [
        {
          "output_type": "execute_result",
          "data": {
            "text/plain": [
              "3rd day   -5\n",
              "4th day   -5\n",
              "1st day    3\n",
              "2nd day    7\n",
              "Name: Temperature, dtype: int64"
            ]
          },
          "metadata": {
            "tags": []
          },
          "execution_count": 12
        }
      ]
    },
    {
      "cell_type": "markdown",
      "metadata": {
        "id": "MTipuuQ-4dEg",
        "colab_type": "text"
      },
      "source": [
        "с `series` можно работать как с `np.ndarray`"
      ]
    },
    {
      "cell_type": "code",
      "metadata": {
        "id": "MKwWwrQu4dEj",
        "colab_type": "code",
        "outputId": "472a3f1a-36cd-4daa-8e14-55cc67b574d1",
        "colab": {
          "base_uri": "https://localhost:8080/",
          "height": 102
        }
      },
      "source": [
        "pd_series_3 + 100"
      ],
      "execution_count": 13,
      "outputs": [
        {
          "output_type": "execute_result",
          "data": {
            "text/plain": [
              "1st day    103\n",
              "2nd day    107\n",
              "3rd day     95\n",
              "4th day     95\n",
              "Name: Temperature, dtype: int64"
            ]
          },
          "metadata": {
            "tags": []
          },
          "execution_count": 13
        }
      ]
    },
    {
      "cell_type": "code",
      "metadata": {
        "id": "taVXuE434dEx",
        "colab_type": "code",
        "outputId": "224d2c5a-0719-4dd4-d17a-c434b7e086b4",
        "colab": {
          "base_uri": "https://localhost:8080/",
          "height": 102
        }
      },
      "source": [
        "np.exp(pd_series_3)"
      ],
      "execution_count": 14,
      "outputs": [
        {
          "output_type": "execute_result",
          "data": {
            "text/plain": [
              "1st day      20.085537\n",
              "2nd day    1096.633158\n",
              "3rd day       0.006738\n",
              "4th day       0.006738\n",
              "Name: Temperature, dtype: float64"
            ]
          },
          "metadata": {
            "tags": []
          },
          "execution_count": 14
        }
      ]
    },
    {
      "cell_type": "code",
      "metadata": {
        "id": "BAVt5BZu4dE8",
        "colab_type": "code",
        "outputId": "fe20c6f3-ec52-425d-8cdb-b1755bad03be",
        "colab": {
          "base_uri": "https://localhost:8080/",
          "height": 442
        }
      },
      "source": [
        "term_1 = pd.Series(np.random.randint(0, 10, 5))\n",
        "term_2 = pd.Series(np.random.randint(0, 10, 6))\n",
        "\n",
        "print('Term1:\\n{}\\n\\nTerm2:\\n{}\\n\\nSum:\\n{}'.format(term_1, term_2, term_1 + term_2))"
      ],
      "execution_count": 15,
      "outputs": [
        {
          "output_type": "stream",
          "text": [
            "Term1:\n",
            "0    7\n",
            "1    4\n",
            "2    3\n",
            "3    7\n",
            "4    7\n",
            "dtype: int64\n",
            "\n",
            "Term2:\n",
            "0    2\n",
            "1    5\n",
            "2    4\n",
            "3    1\n",
            "4    7\n",
            "5    5\n",
            "dtype: int64\n",
            "\n",
            "Sum:\n",
            "0     9.0\n",
            "1     9.0\n",
            "2     7.0\n",
            "3     8.0\n",
            "4    14.0\n",
            "5     NaN\n",
            "dtype: float64\n"
          ],
          "name": "stdout"
        }
      ]
    },
    {
      "cell_type": "code",
      "metadata": {
        "id": "mZoaYQiv4dFI",
        "colab_type": "code",
        "outputId": "8ef22da1-450c-4bf8-f7c0-681d688b1980",
        "colab": {
          "base_uri": "https://localhost:8080/",
          "height": 34
        }
      },
      "source": [
        "term_1.shape"
      ],
      "execution_count": 16,
      "outputs": [
        {
          "output_type": "execute_result",
          "data": {
            "text/plain": [
              "(5,)"
            ]
          },
          "metadata": {
            "tags": []
          },
          "execution_count": 16
        }
      ]
    },
    {
      "cell_type": "code",
      "metadata": {
        "id": "cC8YVeai4dFT",
        "colab_type": "code",
        "outputId": "23d93f31-cb95-4f08-88df-bfe89626e837",
        "colab": {
          "base_uri": "https://localhost:8080/",
          "height": 204
        }
      },
      "source": [
        "date_range = pd.date_range('20190101', periods=10)\n",
        "pd_series_4 = pd.Series(np.random.rand(10), date_range)\n",
        "pd_series_4"
      ],
      "execution_count": 17,
      "outputs": [
        {
          "output_type": "execute_result",
          "data": {
            "text/plain": [
              "2019-01-01    0.000779\n",
              "2019-01-02    0.992212\n",
              "2019-01-03    0.617482\n",
              "2019-01-04    0.611653\n",
              "2019-01-05    0.007066\n",
              "2019-01-06    0.023062\n",
              "2019-01-07    0.524775\n",
              "2019-01-08    0.399861\n",
              "2019-01-09    0.046666\n",
              "2019-01-10    0.973756\n",
              "Freq: D, dtype: float64"
            ]
          },
          "metadata": {
            "tags": []
          },
          "execution_count": 17
        }
      ]
    },
    {
      "cell_type": "code",
      "metadata": {
        "id": "I_zvf7Zx4dFa",
        "colab_type": "code",
        "outputId": "e0751de9-f83d-40f1-fcfd-906086b757a9",
        "colab": {
          "base_uri": "https://localhost:8080/",
          "height": 204
        }
      },
      "source": [
        "pd_series_4 > 0.5"
      ],
      "execution_count": 18,
      "outputs": [
        {
          "output_type": "execute_result",
          "data": {
            "text/plain": [
              "2019-01-01    False\n",
              "2019-01-02     True\n",
              "2019-01-03     True\n",
              "2019-01-04     True\n",
              "2019-01-05    False\n",
              "2019-01-06    False\n",
              "2019-01-07     True\n",
              "2019-01-08    False\n",
              "2019-01-09    False\n",
              "2019-01-10     True\n",
              "Freq: D, dtype: bool"
            ]
          },
          "metadata": {
            "tags": []
          },
          "execution_count": 18
        }
      ]
    },
    {
      "cell_type": "markdown",
      "metadata": {
        "id": "HZKHHHnY4dFm",
        "colab_type": "text"
      },
      "source": [
        "в качестве индекса можно указать выражение, и нам будут возвращены только те элементы, для которых знвчение является `True`"
      ]
    },
    {
      "cell_type": "code",
      "metadata": {
        "id": "piWNydpR4dFs",
        "colab_type": "code",
        "outputId": "08be4c96-6379-4978-d90f-913c8ba83b7b",
        "colab": {
          "base_uri": "https://localhost:8080/",
          "height": 119
        }
      },
      "source": [
        "pd_series_4[pd_series_4 > 0.5]"
      ],
      "execution_count": 19,
      "outputs": [
        {
          "output_type": "execute_result",
          "data": {
            "text/plain": [
              "2019-01-02    0.992212\n",
              "2019-01-03    0.617482\n",
              "2019-01-04    0.611653\n",
              "2019-01-07    0.524775\n",
              "2019-01-10    0.973756\n",
              "dtype: float64"
            ]
          },
          "metadata": {
            "tags": []
          },
          "execution_count": 19
        }
      ]
    },
    {
      "cell_type": "code",
      "metadata": {
        "id": "N0QhO9d54dGN",
        "colab_type": "code",
        "outputId": "54b902ee-1423-4d33-d530-6d1d13c02dcd",
        "colab": {
          "base_uri": "https://localhost:8080/",
          "height": 51
        }
      },
      "source": [
        "pd_series_4[(pd_series_4 > 0.5) & (pd_series_4 < 0.6)]"
      ],
      "execution_count": 20,
      "outputs": [
        {
          "output_type": "execute_result",
          "data": {
            "text/plain": [
              "2019-01-07    0.524775\n",
              "Freq: D, dtype: float64"
            ]
          },
          "metadata": {
            "tags": []
          },
          "execution_count": 20
        }
      ]
    },
    {
      "cell_type": "code",
      "metadata": {
        "id": "f6vFBIbT4dGX",
        "colab_type": "code",
        "outputId": "1e807e8a-614c-45a1-978b-b8970947a7ef",
        "colab": {
          "base_uri": "https://localhost:8080/",
          "height": 170
        }
      },
      "source": [
        "pd_series_4[(pd_series_4 > 0.6) | (pd_series_4 < 0.2)]"
      ],
      "execution_count": 21,
      "outputs": [
        {
          "output_type": "execute_result",
          "data": {
            "text/plain": [
              "2019-01-01    0.000779\n",
              "2019-01-02    0.992212\n",
              "2019-01-03    0.617482\n",
              "2019-01-04    0.611653\n",
              "2019-01-05    0.007066\n",
              "2019-01-06    0.023062\n",
              "2019-01-09    0.046666\n",
              "2019-01-10    0.973756\n",
              "dtype: float64"
            ]
          },
          "metadata": {
            "tags": []
          },
          "execution_count": 21
        }
      ]
    },
    {
      "cell_type": "markdown",
      "metadata": {
        "id": "cQSkwJKA4dGd",
        "colab_type": "text"
      },
      "source": [
        "## DataFrame\n",
        "\n",
        "Двумерная таблица данных. Имеет индекс и набор столбцов (возможно, имеющих разные типы). Таблицу можно построить, например, из словаря, значениями в котором являются одномерные наборы данных."
      ]
    },
    {
      "cell_type": "code",
      "metadata": {
        "id": "SFzX2-N64dGe",
        "colab_type": "code",
        "outputId": "7d8a82fd-55e4-44c8-c331-376bb505fba0",
        "colab": {
          "base_uri": "https://localhost:8080/",
          "height": 173
        }
      },
      "source": [
        "# Dataframe можно составить из словаря. Ключ будет соответсовать колонке\n",
        "d={'one':pd.Series([1,2,3],index=['a','b','c']),\n",
        "   'two':pd.Series([1,2,3,4],index=['a','b','c','d'])}\n",
        "df=pd.DataFrame(d)\n",
        "df"
      ],
      "execution_count": 22,
      "outputs": [
        {
          "output_type": "execute_result",
          "data": {
            "text/html": [
              "<div>\n",
              "<style scoped>\n",
              "    .dataframe tbody tr th:only-of-type {\n",
              "        vertical-align: middle;\n",
              "    }\n",
              "\n",
              "    .dataframe tbody tr th {\n",
              "        vertical-align: top;\n",
              "    }\n",
              "\n",
              "    .dataframe thead th {\n",
              "        text-align: right;\n",
              "    }\n",
              "</style>\n",
              "<table border=\"1\" class=\"dataframe\">\n",
              "  <thead>\n",
              "    <tr style=\"text-align: right;\">\n",
              "      <th></th>\n",
              "      <th>one</th>\n",
              "      <th>two</th>\n",
              "    </tr>\n",
              "  </thead>\n",
              "  <tbody>\n",
              "    <tr>\n",
              "      <th>a</th>\n",
              "      <td>1.0</td>\n",
              "      <td>1</td>\n",
              "    </tr>\n",
              "    <tr>\n",
              "      <th>b</th>\n",
              "      <td>2.0</td>\n",
              "      <td>2</td>\n",
              "    </tr>\n",
              "    <tr>\n",
              "      <th>c</th>\n",
              "      <td>3.0</td>\n",
              "      <td>3</td>\n",
              "    </tr>\n",
              "    <tr>\n",
              "      <th>d</th>\n",
              "      <td>NaN</td>\n",
              "      <td>4</td>\n",
              "    </tr>\n",
              "  </tbody>\n",
              "</table>\n",
              "</div>"
            ],
            "text/plain": [
              "   one  two\n",
              "a  1.0    1\n",
              "b  2.0    2\n",
              "c  3.0    3\n",
              "d  NaN    4"
            ]
          },
          "metadata": {
            "tags": []
          },
          "execution_count": 22
        }
      ]
    },
    {
      "cell_type": "code",
      "metadata": {
        "id": "ZdO05kdD4dGh",
        "colab_type": "code",
        "outputId": "1e82d997-3f15-43b7-daf4-1c1211a2103f",
        "colab": {
          "base_uri": "https://localhost:8080/",
          "height": 34
        }
      },
      "source": [
        "df.index"
      ],
      "execution_count": 23,
      "outputs": [
        {
          "output_type": "execute_result",
          "data": {
            "text/plain": [
              "Index(['a', 'b', 'c', 'd'], dtype='object')"
            ]
          },
          "metadata": {
            "tags": []
          },
          "execution_count": 23
        }
      ]
    },
    {
      "cell_type": "code",
      "metadata": {
        "id": "9NuwjLfb4dGr",
        "colab_type": "code",
        "outputId": "0f35ddb3-5937-485b-9d66-e4bf964a30e7",
        "colab": {
          "base_uri": "https://localhost:8080/",
          "height": 34
        }
      },
      "source": [
        "df.columns"
      ],
      "execution_count": 24,
      "outputs": [
        {
          "output_type": "execute_result",
          "data": {
            "text/plain": [
              "Index(['one', 'two'], dtype='object')"
            ]
          },
          "metadata": {
            "tags": []
          },
          "execution_count": 24
        }
      ]
    },
    {
      "cell_type": "code",
      "metadata": {
        "id": "9gLpav4R4dG7",
        "colab_type": "code",
        "outputId": "f1aabb22-9a7c-4849-ffa8-1f0f5c5a2654",
        "colab": {
          "base_uri": "https://localhost:8080/",
          "height": 34
        }
      },
      "source": [
        "df['one']['c']"
      ],
      "execution_count": 25,
      "outputs": [
        {
          "output_type": "execute_result",
          "data": {
            "text/plain": [
              "3.0"
            ]
          },
          "metadata": {
            "tags": []
          },
          "execution_count": 25
        }
      ]
    },
    {
      "cell_type": "code",
      "metadata": {
        "id": "G4nfOQT94dHO",
        "colab_type": "code",
        "outputId": "f8339172-39e4-49dc-be2f-1300e7758084",
        "colab": {
          "base_uri": "https://localhost:8080/",
          "height": 102
        }
      },
      "source": [
        "df.one"
      ],
      "execution_count": 26,
      "outputs": [
        {
          "output_type": "execute_result",
          "data": {
            "text/plain": [
              "a    1.0\n",
              "b    2.0\n",
              "c    3.0\n",
              "d    NaN\n",
              "Name: one, dtype: float64"
            ]
          },
          "metadata": {
            "tags": []
          },
          "execution_count": 26
        }
      ]
    },
    {
      "cell_type": "markdown",
      "metadata": {
        "id": "x5VszQpv4dHf",
        "colab_type": "text"
      },
      "source": [
        "Если указать диапазон индексов, то это означает диапазон строк. Причём **последняя строка включается в таблицу.**\n",
        "\n",
        "Диапазон целых чисел даёт диапазон строк с такими номерами, **не включая последнюю строку** (как обычно при индексировании списков). \n",
        "\n",
        "На это стоит обратить внимание"
      ]
    },
    {
      "cell_type": "code",
      "metadata": {
        "id": "exD-TJmV4dHh",
        "colab_type": "code",
        "outputId": "596208b6-88b5-42ea-fd3a-1eec4fa32fec",
        "colab": {
          "base_uri": "https://localhost:8080/",
          "height": 142
        }
      },
      "source": [
        "df['b':'d']"
      ],
      "execution_count": 27,
      "outputs": [
        {
          "output_type": "execute_result",
          "data": {
            "text/html": [
              "<div>\n",
              "<style scoped>\n",
              "    .dataframe tbody tr th:only-of-type {\n",
              "        vertical-align: middle;\n",
              "    }\n",
              "\n",
              "    .dataframe tbody tr th {\n",
              "        vertical-align: top;\n",
              "    }\n",
              "\n",
              "    .dataframe thead th {\n",
              "        text-align: right;\n",
              "    }\n",
              "</style>\n",
              "<table border=\"1\" class=\"dataframe\">\n",
              "  <thead>\n",
              "    <tr style=\"text-align: right;\">\n",
              "      <th></th>\n",
              "      <th>one</th>\n",
              "      <th>two</th>\n",
              "    </tr>\n",
              "  </thead>\n",
              "  <tbody>\n",
              "    <tr>\n",
              "      <th>b</th>\n",
              "      <td>2.0</td>\n",
              "      <td>2</td>\n",
              "    </tr>\n",
              "    <tr>\n",
              "      <th>c</th>\n",
              "      <td>3.0</td>\n",
              "      <td>3</td>\n",
              "    </tr>\n",
              "    <tr>\n",
              "      <th>d</th>\n",
              "      <td>NaN</td>\n",
              "      <td>4</td>\n",
              "    </tr>\n",
              "  </tbody>\n",
              "</table>\n",
              "</div>"
            ],
            "text/plain": [
              "   one  two\n",
              "b  2.0    2\n",
              "c  3.0    3\n",
              "d  NaN    4"
            ]
          },
          "metadata": {
            "tags": []
          },
          "execution_count": 27
        }
      ]
    },
    {
      "cell_type": "code",
      "metadata": {
        "id": "PsOpqodJ4dHj",
        "colab_type": "code",
        "outputId": "c1cfbccf-8f1b-4bc0-db2a-633a06deb82a",
        "colab": {
          "base_uri": "https://localhost:8080/",
          "height": 111
        }
      },
      "source": [
        "df[1:3]"
      ],
      "execution_count": 28,
      "outputs": [
        {
          "output_type": "execute_result",
          "data": {
            "text/html": [
              "<div>\n",
              "<style scoped>\n",
              "    .dataframe tbody tr th:only-of-type {\n",
              "        vertical-align: middle;\n",
              "    }\n",
              "\n",
              "    .dataframe tbody tr th {\n",
              "        vertical-align: top;\n",
              "    }\n",
              "\n",
              "    .dataframe thead th {\n",
              "        text-align: right;\n",
              "    }\n",
              "</style>\n",
              "<table border=\"1\" class=\"dataframe\">\n",
              "  <thead>\n",
              "    <tr style=\"text-align: right;\">\n",
              "      <th></th>\n",
              "      <th>one</th>\n",
              "      <th>two</th>\n",
              "    </tr>\n",
              "  </thead>\n",
              "  <tbody>\n",
              "    <tr>\n",
              "      <th>b</th>\n",
              "      <td>2.0</td>\n",
              "      <td>2</td>\n",
              "    </tr>\n",
              "    <tr>\n",
              "      <th>c</th>\n",
              "      <td>3.0</td>\n",
              "      <td>3</td>\n",
              "    </tr>\n",
              "  </tbody>\n",
              "</table>\n",
              "</div>"
            ],
            "text/plain": [
              "   one  two\n",
              "b  2.0    2\n",
              "c  3.0    3"
            ]
          },
          "metadata": {
            "tags": []
          },
          "execution_count": 28
        }
      ]
    },
    {
      "cell_type": "code",
      "metadata": {
        "id": "4SFFA8yd4dHo",
        "colab_type": "code",
        "outputId": "edb38071-297b-4e3c-a997-1ab5aca595a9",
        "colab": {
          "base_uri": "https://localhost:8080/",
          "height": 173
        }
      },
      "source": [
        "df['three'] = df['one'] * df['two']\n",
        "df"
      ],
      "execution_count": 29,
      "outputs": [
        {
          "output_type": "execute_result",
          "data": {
            "text/html": [
              "<div>\n",
              "<style scoped>\n",
              "    .dataframe tbody tr th:only-of-type {\n",
              "        vertical-align: middle;\n",
              "    }\n",
              "\n",
              "    .dataframe tbody tr th {\n",
              "        vertical-align: top;\n",
              "    }\n",
              "\n",
              "    .dataframe thead th {\n",
              "        text-align: right;\n",
              "    }\n",
              "</style>\n",
              "<table border=\"1\" class=\"dataframe\">\n",
              "  <thead>\n",
              "    <tr style=\"text-align: right;\">\n",
              "      <th></th>\n",
              "      <th>one</th>\n",
              "      <th>two</th>\n",
              "      <th>three</th>\n",
              "    </tr>\n",
              "  </thead>\n",
              "  <tbody>\n",
              "    <tr>\n",
              "      <th>a</th>\n",
              "      <td>1.0</td>\n",
              "      <td>1</td>\n",
              "      <td>1.0</td>\n",
              "    </tr>\n",
              "    <tr>\n",
              "      <th>b</th>\n",
              "      <td>2.0</td>\n",
              "      <td>2</td>\n",
              "      <td>4.0</td>\n",
              "    </tr>\n",
              "    <tr>\n",
              "      <th>c</th>\n",
              "      <td>3.0</td>\n",
              "      <td>3</td>\n",
              "      <td>9.0</td>\n",
              "    </tr>\n",
              "    <tr>\n",
              "      <th>d</th>\n",
              "      <td>NaN</td>\n",
              "      <td>4</td>\n",
              "      <td>NaN</td>\n",
              "    </tr>\n",
              "  </tbody>\n",
              "</table>\n",
              "</div>"
            ],
            "text/plain": [
              "   one  two  three\n",
              "a  1.0    1    1.0\n",
              "b  2.0    2    4.0\n",
              "c  3.0    3    9.0\n",
              "d  NaN    4    NaN"
            ]
          },
          "metadata": {
            "tags": []
          },
          "execution_count": 29
        }
      ]
    },
    {
      "cell_type": "markdown",
      "metadata": {
        "id": "y9mIs5GS4dHv",
        "colab_type": "text"
      },
      "source": [
        "Иногда нам надо обьединить 2 таблицы вместе. В этом могут помочь методы `concat` и `join` "
      ]
    },
    {
      "cell_type": "code",
      "metadata": {
        "id": "aYt0Iyix4dH4",
        "colab_type": "code",
        "outputId": "c6a283ed-5124-47ef-dc37-24700a3f35c6",
        "colab": {
          "base_uri": "https://localhost:8080/",
          "height": 142
        }
      },
      "source": [
        "# concatinating\n",
        "df2=pd.DataFrame({'one':{'a':11,'e':0,'f':1},'one_tr':{'e':2}})\n",
        "df2"
      ],
      "execution_count": 32,
      "outputs": [
        {
          "output_type": "execute_result",
          "data": {
            "text/html": [
              "<div>\n",
              "<style scoped>\n",
              "    .dataframe tbody tr th:only-of-type {\n",
              "        vertical-align: middle;\n",
              "    }\n",
              "\n",
              "    .dataframe tbody tr th {\n",
              "        vertical-align: top;\n",
              "    }\n",
              "\n",
              "    .dataframe thead th {\n",
              "        text-align: right;\n",
              "    }\n",
              "</style>\n",
              "<table border=\"1\" class=\"dataframe\">\n",
              "  <thead>\n",
              "    <tr style=\"text-align: right;\">\n",
              "      <th></th>\n",
              "      <th>one</th>\n",
              "      <th>one_tr</th>\n",
              "    </tr>\n",
              "  </thead>\n",
              "  <tbody>\n",
              "    <tr>\n",
              "      <th>a</th>\n",
              "      <td>11</td>\n",
              "      <td>NaN</td>\n",
              "    </tr>\n",
              "    <tr>\n",
              "      <th>e</th>\n",
              "      <td>0</td>\n",
              "      <td>2.0</td>\n",
              "    </tr>\n",
              "    <tr>\n",
              "      <th>f</th>\n",
              "      <td>1</td>\n",
              "      <td>NaN</td>\n",
              "    </tr>\n",
              "  </tbody>\n",
              "</table>\n",
              "</div>"
            ],
            "text/plain": [
              "   one  one_tr\n",
              "a   11     NaN\n",
              "e    0     2.0\n",
              "f    1     NaN"
            ]
          },
          "metadata": {
            "tags": []
          },
          "execution_count": 32
        }
      ]
    },
    {
      "cell_type": "code",
      "metadata": {
        "id": "nQS2qwNu4dIR",
        "colab_type": "code",
        "outputId": "8b2e9e38-010e-49f9-e61f-f1935d0c31fc",
        "colab": {
          "base_uri": "https://localhost:8080/",
          "height": 266
        }
      },
      "source": [
        "pd.concat([df,df2], sort=False)"
      ],
      "execution_count": 33,
      "outputs": [
        {
          "output_type": "execute_result",
          "data": {
            "text/html": [
              "<div>\n",
              "<style scoped>\n",
              "    .dataframe tbody tr th:only-of-type {\n",
              "        vertical-align: middle;\n",
              "    }\n",
              "\n",
              "    .dataframe tbody tr th {\n",
              "        vertical-align: top;\n",
              "    }\n",
              "\n",
              "    .dataframe thead th {\n",
              "        text-align: right;\n",
              "    }\n",
              "</style>\n",
              "<table border=\"1\" class=\"dataframe\">\n",
              "  <thead>\n",
              "    <tr style=\"text-align: right;\">\n",
              "      <th></th>\n",
              "      <th>one</th>\n",
              "      <th>two</th>\n",
              "      <th>three</th>\n",
              "      <th>one_tr</th>\n",
              "    </tr>\n",
              "  </thead>\n",
              "  <tbody>\n",
              "    <tr>\n",
              "      <th>a</th>\n",
              "      <td>1.0</td>\n",
              "      <td>1.0</td>\n",
              "      <td>1.0</td>\n",
              "      <td>NaN</td>\n",
              "    </tr>\n",
              "    <tr>\n",
              "      <th>b</th>\n",
              "      <td>2.0</td>\n",
              "      <td>2.0</td>\n",
              "      <td>4.0</td>\n",
              "      <td>NaN</td>\n",
              "    </tr>\n",
              "    <tr>\n",
              "      <th>c</th>\n",
              "      <td>3.0</td>\n",
              "      <td>3.0</td>\n",
              "      <td>9.0</td>\n",
              "      <td>NaN</td>\n",
              "    </tr>\n",
              "    <tr>\n",
              "      <th>d</th>\n",
              "      <td>NaN</td>\n",
              "      <td>4.0</td>\n",
              "      <td>NaN</td>\n",
              "      <td>NaN</td>\n",
              "    </tr>\n",
              "    <tr>\n",
              "      <th>a</th>\n",
              "      <td>11.0</td>\n",
              "      <td>NaN</td>\n",
              "      <td>NaN</td>\n",
              "      <td>NaN</td>\n",
              "    </tr>\n",
              "    <tr>\n",
              "      <th>e</th>\n",
              "      <td>0.0</td>\n",
              "      <td>NaN</td>\n",
              "      <td>NaN</td>\n",
              "      <td>2.0</td>\n",
              "    </tr>\n",
              "    <tr>\n",
              "      <th>f</th>\n",
              "      <td>1.0</td>\n",
              "      <td>NaN</td>\n",
              "      <td>NaN</td>\n",
              "      <td>NaN</td>\n",
              "    </tr>\n",
              "  </tbody>\n",
              "</table>\n",
              "</div>"
            ],
            "text/plain": [
              "    one  two  three  one_tr\n",
              "a   1.0  1.0    1.0     NaN\n",
              "b   2.0  2.0    4.0     NaN\n",
              "c   3.0  3.0    9.0     NaN\n",
              "d   NaN  4.0    NaN     NaN\n",
              "a  11.0  NaN    NaN     NaN\n",
              "e   0.0  NaN    NaN     2.0\n",
              "f   1.0  NaN    NaN     NaN"
            ]
          },
          "metadata": {
            "tags": []
          },
          "execution_count": 33
        }
      ]
    },
    {
      "cell_type": "code",
      "metadata": {
        "id": "rwISYARo4dIg",
        "colab_type": "code",
        "outputId": "c4f1faea-6a93-441d-dd1c-b8098c7dac73",
        "colab": {
          "base_uri": "https://localhost:8080/",
          "height": 173
        }
      },
      "source": [
        "df1 = pd.DataFrame({\n",
        "    'one':pd.Series([1,2,3,4], index=['a','b','c','d']),\n",
        "    'two':pd.Series([5,6,7,8], index=['a','b','c','d'])\n",
        "})\n",
        "df1"
      ],
      "execution_count": 34,
      "outputs": [
        {
          "output_type": "execute_result",
          "data": {
            "text/html": [
              "<div>\n",
              "<style scoped>\n",
              "    .dataframe tbody tr th:only-of-type {\n",
              "        vertical-align: middle;\n",
              "    }\n",
              "\n",
              "    .dataframe tbody tr th {\n",
              "        vertical-align: top;\n",
              "    }\n",
              "\n",
              "    .dataframe thead th {\n",
              "        text-align: right;\n",
              "    }\n",
              "</style>\n",
              "<table border=\"1\" class=\"dataframe\">\n",
              "  <thead>\n",
              "    <tr style=\"text-align: right;\">\n",
              "      <th></th>\n",
              "      <th>one</th>\n",
              "      <th>two</th>\n",
              "    </tr>\n",
              "  </thead>\n",
              "  <tbody>\n",
              "    <tr>\n",
              "      <th>a</th>\n",
              "      <td>1</td>\n",
              "      <td>5</td>\n",
              "    </tr>\n",
              "    <tr>\n",
              "      <th>b</th>\n",
              "      <td>2</td>\n",
              "      <td>6</td>\n",
              "    </tr>\n",
              "    <tr>\n",
              "      <th>c</th>\n",
              "      <td>3</td>\n",
              "      <td>7</td>\n",
              "    </tr>\n",
              "    <tr>\n",
              "      <th>d</th>\n",
              "      <td>4</td>\n",
              "      <td>8</td>\n",
              "    </tr>\n",
              "  </tbody>\n",
              "</table>\n",
              "</div>"
            ],
            "text/plain": [
              "   one  two\n",
              "a    1    5\n",
              "b    2    6\n",
              "c    3    7\n",
              "d    4    8"
            ]
          },
          "metadata": {
            "tags": []
          },
          "execution_count": 34
        }
      ]
    },
    {
      "cell_type": "code",
      "metadata": {
        "id": "tBr2HZ2x4dIn",
        "colab_type": "code",
        "outputId": "7c75fb0d-c4ed-482e-80f7-7e0e05307efe",
        "colab": {
          "base_uri": "https://localhost:8080/",
          "height": 204
        }
      },
      "source": [
        "\n",
        "df2 = pd.DataFrame({\n",
        "    'one':pd.Series([1,2,3,4,5], index=['a','b','c','d', 'e']),\n",
        "    'three':pd.Series(['1','1','2','3'], index=['a','b','c','d'])\n",
        "})\n",
        "df2"
      ],
      "execution_count": 35,
      "outputs": [
        {
          "output_type": "execute_result",
          "data": {
            "text/html": [
              "<div>\n",
              "<style scoped>\n",
              "    .dataframe tbody tr th:only-of-type {\n",
              "        vertical-align: middle;\n",
              "    }\n",
              "\n",
              "    .dataframe tbody tr th {\n",
              "        vertical-align: top;\n",
              "    }\n",
              "\n",
              "    .dataframe thead th {\n",
              "        text-align: right;\n",
              "    }\n",
              "</style>\n",
              "<table border=\"1\" class=\"dataframe\">\n",
              "  <thead>\n",
              "    <tr style=\"text-align: right;\">\n",
              "      <th></th>\n",
              "      <th>one</th>\n",
              "      <th>three</th>\n",
              "    </tr>\n",
              "  </thead>\n",
              "  <tbody>\n",
              "    <tr>\n",
              "      <th>a</th>\n",
              "      <td>1</td>\n",
              "      <td>1</td>\n",
              "    </tr>\n",
              "    <tr>\n",
              "      <th>b</th>\n",
              "      <td>2</td>\n",
              "      <td>1</td>\n",
              "    </tr>\n",
              "    <tr>\n",
              "      <th>c</th>\n",
              "      <td>3</td>\n",
              "      <td>2</td>\n",
              "    </tr>\n",
              "    <tr>\n",
              "      <th>d</th>\n",
              "      <td>4</td>\n",
              "      <td>3</td>\n",
              "    </tr>\n",
              "    <tr>\n",
              "      <th>e</th>\n",
              "      <td>5</td>\n",
              "      <td>NaN</td>\n",
              "    </tr>\n",
              "  </tbody>\n",
              "</table>\n",
              "</div>"
            ],
            "text/plain": [
              "   one three\n",
              "a    1     1\n",
              "b    2     1\n",
              "c    3     2\n",
              "d    4     3\n",
              "e    5   NaN"
            ]
          },
          "metadata": {
            "tags": []
          },
          "execution_count": 35
        }
      ]
    },
    {
      "cell_type": "code",
      "metadata": {
        "id": "-w4AoQlO4dIs",
        "colab_type": "code",
        "outputId": "5349ac18-24e1-4d25-c2dc-db3c6920e79b",
        "colab": {
          "base_uri": "https://localhost:8080/",
          "height": 173
        }
      },
      "source": [
        "df1.join(df2.set_index('one'), on='one')"
      ],
      "execution_count": 36,
      "outputs": [
        {
          "output_type": "execute_result",
          "data": {
            "text/html": [
              "<div>\n",
              "<style scoped>\n",
              "    .dataframe tbody tr th:only-of-type {\n",
              "        vertical-align: middle;\n",
              "    }\n",
              "\n",
              "    .dataframe tbody tr th {\n",
              "        vertical-align: top;\n",
              "    }\n",
              "\n",
              "    .dataframe thead th {\n",
              "        text-align: right;\n",
              "    }\n",
              "</style>\n",
              "<table border=\"1\" class=\"dataframe\">\n",
              "  <thead>\n",
              "    <tr style=\"text-align: right;\">\n",
              "      <th></th>\n",
              "      <th>one</th>\n",
              "      <th>two</th>\n",
              "      <th>three</th>\n",
              "    </tr>\n",
              "  </thead>\n",
              "  <tbody>\n",
              "    <tr>\n",
              "      <th>a</th>\n",
              "      <td>1</td>\n",
              "      <td>5</td>\n",
              "      <td>1</td>\n",
              "    </tr>\n",
              "    <tr>\n",
              "      <th>b</th>\n",
              "      <td>2</td>\n",
              "      <td>6</td>\n",
              "      <td>1</td>\n",
              "    </tr>\n",
              "    <tr>\n",
              "      <th>c</th>\n",
              "      <td>3</td>\n",
              "      <td>7</td>\n",
              "      <td>2</td>\n",
              "    </tr>\n",
              "    <tr>\n",
              "      <th>d</th>\n",
              "      <td>4</td>\n",
              "      <td>8</td>\n",
              "      <td>3</td>\n",
              "    </tr>\n",
              "  </tbody>\n",
              "</table>\n",
              "</div>"
            ],
            "text/plain": [
              "   one  two three\n",
              "a    1    5     1\n",
              "b    2    6     1\n",
              "c    3    7     2\n",
              "d    4    8     3"
            ]
          },
          "metadata": {
            "tags": []
          },
          "execution_count": 36
        }
      ]
    },
    {
      "cell_type": "markdown",
      "metadata": {
        "id": "WjsrJHTC4dIy",
        "colab_type": "text"
      },
      "source": [
        "Более подробно про join:  https://pandas.pydata.org/pandas-docs/stable/reference/api/pandas.DataFrame.join.html"
      ]
    },
    {
      "cell_type": "markdown",
      "metadata": {
        "id": "TVh5gjzO4dI9",
        "colab_type": "text"
      },
      "source": [
        "Теперь попробуем поработать с настоящими данными"
      ]
    },
    {
      "cell_type": "markdown",
      "metadata": {
        "id": "mtQjMB214dJD",
        "colab_type": "text"
      },
      "source": [
        "### Скачать данные: https://www.kaggle.com/ramamet4/app-store-apple-data-set-10k-apps"
      ]
    },
    {
      "cell_type": "code",
      "metadata": {
        "scrolled": false,
        "id": "D2vjIQcg4dJI",
        "colab_type": "code",
        "outputId": "b2d5e7d2-8e08-4420-f442-188e850d5faa",
        "colab": {
          "base_uri": "https://localhost:8080/",
          "height": 68
        }
      },
      "source": [
        "#!wget https://www.dropbox.com/s/o9uiqxb3yr6ch6k/app-store-apple-data-set-10k-apps.zip?dl=0\n",
        "!unzip app-store-apple-data-set-10k-apps.zip"
      ],
      "execution_count": 39,
      "outputs": [
        {
          "output_type": "stream",
          "text": [
            "Archive:  app-store-apple-data-set-10k-apps.zip\n",
            "  inflating: AppleStore.csv          \n",
            "  inflating: appleStore_description.csv  \n"
          ],
          "name": "stdout"
        }
      ]
    },
    {
      "cell_type": "code",
      "metadata": {
        "id": "7C-GpEqU4dJn",
        "colab_type": "code",
        "outputId": "b79dddba-9197-4241-af3f-505c88fbb28d",
        "colab": {
          "base_uri": "https://localhost:8080/",
          "height": 360
        }
      },
      "source": [
        "data = pd.read_csv('AppleStore.csv')\n",
        "\n",
        "# вывести первые 5 строк\n",
        "# data.head(5)\n",
        "# вывести последние 5 строк\n",
        "# data.tail(5)\n",
        "# вывести 5 случайных строк\n",
        "data.sample(5)"
      ],
      "execution_count": 41,
      "outputs": [
        {
          "output_type": "execute_result",
          "data": {
            "text/html": [
              "<div>\n",
              "<style scoped>\n",
              "    .dataframe tbody tr th:only-of-type {\n",
              "        vertical-align: middle;\n",
              "    }\n",
              "\n",
              "    .dataframe tbody tr th {\n",
              "        vertical-align: top;\n",
              "    }\n",
              "\n",
              "    .dataframe thead th {\n",
              "        text-align: right;\n",
              "    }\n",
              "</style>\n",
              "<table border=\"1\" class=\"dataframe\">\n",
              "  <thead>\n",
              "    <tr style=\"text-align: right;\">\n",
              "      <th></th>\n",
              "      <th>Unnamed: 0</th>\n",
              "      <th>id</th>\n",
              "      <th>track_name</th>\n",
              "      <th>size_bytes</th>\n",
              "      <th>currency</th>\n",
              "      <th>price</th>\n",
              "      <th>rating_count_tot</th>\n",
              "      <th>rating_count_ver</th>\n",
              "      <th>user_rating</th>\n",
              "      <th>user_rating_ver</th>\n",
              "      <th>ver</th>\n",
              "      <th>cont_rating</th>\n",
              "      <th>prime_genre</th>\n",
              "      <th>sup_devices.num</th>\n",
              "      <th>ipadSc_urls.num</th>\n",
              "      <th>lang.num</th>\n",
              "      <th>vpp_lic</th>\n",
              "    </tr>\n",
              "  </thead>\n",
              "  <tbody>\n",
              "    <tr>\n",
              "      <th>3173</th>\n",
              "      <td>3812</td>\n",
              "      <td>940314673</td>\n",
              "      <td>A Florist</td>\n",
              "      <td>1814528</td>\n",
              "      <td>USD</td>\n",
              "      <td>0.99</td>\n",
              "      <td>0</td>\n",
              "      <td>0</td>\n",
              "      <td>0.0</td>\n",
              "      <td>0.0</td>\n",
              "      <td>1.3.3</td>\n",
              "      <td>4+</td>\n",
              "      <td>Lifestyle</td>\n",
              "      <td>38</td>\n",
              "      <td>2</td>\n",
              "      <td>2</td>\n",
              "      <td>1</td>\n",
              "    </tr>\n",
              "    <tr>\n",
              "      <th>2560</th>\n",
              "      <td>3031</td>\n",
              "      <td>847985808</td>\n",
              "      <td>Star Wars™: Commander</td>\n",
              "      <td>187205632</td>\n",
              "      <td>USD</td>\n",
              "      <td>0.00</td>\n",
              "      <td>253448</td>\n",
              "      <td>315</td>\n",
              "      <td>4.5</td>\n",
              "      <td>4.5</td>\n",
              "      <td>4.10.0</td>\n",
              "      <td>9+</td>\n",
              "      <td>Games</td>\n",
              "      <td>37</td>\n",
              "      <td>5</td>\n",
              "      <td>11</td>\n",
              "      <td>1</td>\n",
              "    </tr>\n",
              "    <tr>\n",
              "      <th>357</th>\n",
              "      <td>403</td>\n",
              "      <td>363486833</td>\n",
              "      <td>Space War HD</td>\n",
              "      <td>30270464</td>\n",
              "      <td>USD</td>\n",
              "      <td>0.99</td>\n",
              "      <td>71</td>\n",
              "      <td>3</td>\n",
              "      <td>3.0</td>\n",
              "      <td>4.5</td>\n",
              "      <td>5.3</td>\n",
              "      <td>4+</td>\n",
              "      <td>Games</td>\n",
              "      <td>37</td>\n",
              "      <td>2</td>\n",
              "      <td>4</td>\n",
              "      <td>1</td>\n",
              "    </tr>\n",
              "    <tr>\n",
              "      <th>304</th>\n",
              "      <td>343</td>\n",
              "      <td>351091731</td>\n",
              "      <td>大众点评-发现品质生活</td>\n",
              "      <td>244516864</td>\n",
              "      <td>USD</td>\n",
              "      <td>0.00</td>\n",
              "      <td>844</td>\n",
              "      <td>1</td>\n",
              "      <td>4.0</td>\n",
              "      <td>1.0</td>\n",
              "      <td>9.2.4</td>\n",
              "      <td>17+</td>\n",
              "      <td>Lifestyle</td>\n",
              "      <td>37</td>\n",
              "      <td>5</td>\n",
              "      <td>2</td>\n",
              "      <td>1</td>\n",
              "    </tr>\n",
              "    <tr>\n",
              "      <th>6057</th>\n",
              "      <td>8506</td>\n",
              "      <td>1110700363</td>\n",
              "      <td>Being SalMan: The Official Game</td>\n",
              "      <td>173696000</td>\n",
              "      <td>USD</td>\n",
              "      <td>0.00</td>\n",
              "      <td>33</td>\n",
              "      <td>16</td>\n",
              "      <td>4.5</td>\n",
              "      <td>5.0</td>\n",
              "      <td>1.1.0</td>\n",
              "      <td>12+</td>\n",
              "      <td>Games</td>\n",
              "      <td>37</td>\n",
              "      <td>5</td>\n",
              "      <td>1</td>\n",
              "      <td>1</td>\n",
              "    </tr>\n",
              "  </tbody>\n",
              "</table>\n",
              "</div>"
            ],
            "text/plain": [
              "      Unnamed: 0          id  ... lang.num  vpp_lic\n",
              "3173        3812   940314673  ...        2        1\n",
              "2560        3031   847985808  ...       11        1\n",
              "357          403   363486833  ...        4        1\n",
              "304          343   351091731  ...        2        1\n",
              "6057        8506  1110700363  ...        1        1\n",
              "\n",
              "[5 rows x 17 columns]"
            ]
          },
          "metadata": {
            "tags": []
          },
          "execution_count": 41
        }
      ]
    },
    {
      "cell_type": "code",
      "metadata": {
        "id": "mqTvJRZs4dJq",
        "colab_type": "code",
        "outputId": "9bc6227d-0d40-405c-f7e8-3e61c91160df",
        "colab": {
          "base_uri": "https://localhost:8080/",
          "height": 411
        }
      },
      "source": [
        "data = pd.read_csv('./AppleStore.csv', index_col=0)\n",
        "\n",
        "data.head()"
      ],
      "execution_count": 42,
      "outputs": [
        {
          "output_type": "execute_result",
          "data": {
            "text/html": [
              "<div>\n",
              "<style scoped>\n",
              "    .dataframe tbody tr th:only-of-type {\n",
              "        vertical-align: middle;\n",
              "    }\n",
              "\n",
              "    .dataframe tbody tr th {\n",
              "        vertical-align: top;\n",
              "    }\n",
              "\n",
              "    .dataframe thead th {\n",
              "        text-align: right;\n",
              "    }\n",
              "</style>\n",
              "<table border=\"1\" class=\"dataframe\">\n",
              "  <thead>\n",
              "    <tr style=\"text-align: right;\">\n",
              "      <th></th>\n",
              "      <th>id</th>\n",
              "      <th>track_name</th>\n",
              "      <th>size_bytes</th>\n",
              "      <th>currency</th>\n",
              "      <th>price</th>\n",
              "      <th>rating_count_tot</th>\n",
              "      <th>rating_count_ver</th>\n",
              "      <th>user_rating</th>\n",
              "      <th>user_rating_ver</th>\n",
              "      <th>ver</th>\n",
              "      <th>cont_rating</th>\n",
              "      <th>prime_genre</th>\n",
              "      <th>sup_devices.num</th>\n",
              "      <th>ipadSc_urls.num</th>\n",
              "      <th>lang.num</th>\n",
              "      <th>vpp_lic</th>\n",
              "    </tr>\n",
              "  </thead>\n",
              "  <tbody>\n",
              "    <tr>\n",
              "      <th>1</th>\n",
              "      <td>281656475</td>\n",
              "      <td>PAC-MAN Premium</td>\n",
              "      <td>100788224</td>\n",
              "      <td>USD</td>\n",
              "      <td>3.99</td>\n",
              "      <td>21292</td>\n",
              "      <td>26</td>\n",
              "      <td>4.0</td>\n",
              "      <td>4.5</td>\n",
              "      <td>6.3.5</td>\n",
              "      <td>4+</td>\n",
              "      <td>Games</td>\n",
              "      <td>38</td>\n",
              "      <td>5</td>\n",
              "      <td>10</td>\n",
              "      <td>1</td>\n",
              "    </tr>\n",
              "    <tr>\n",
              "      <th>2</th>\n",
              "      <td>281796108</td>\n",
              "      <td>Evernote - stay organized</td>\n",
              "      <td>158578688</td>\n",
              "      <td>USD</td>\n",
              "      <td>0.00</td>\n",
              "      <td>161065</td>\n",
              "      <td>26</td>\n",
              "      <td>4.0</td>\n",
              "      <td>3.5</td>\n",
              "      <td>8.2.2</td>\n",
              "      <td>4+</td>\n",
              "      <td>Productivity</td>\n",
              "      <td>37</td>\n",
              "      <td>5</td>\n",
              "      <td>23</td>\n",
              "      <td>1</td>\n",
              "    </tr>\n",
              "    <tr>\n",
              "      <th>3</th>\n",
              "      <td>281940292</td>\n",
              "      <td>WeatherBug - Local Weather, Radar, Maps, Alerts</td>\n",
              "      <td>100524032</td>\n",
              "      <td>USD</td>\n",
              "      <td>0.00</td>\n",
              "      <td>188583</td>\n",
              "      <td>2822</td>\n",
              "      <td>3.5</td>\n",
              "      <td>4.5</td>\n",
              "      <td>5.0.0</td>\n",
              "      <td>4+</td>\n",
              "      <td>Weather</td>\n",
              "      <td>37</td>\n",
              "      <td>5</td>\n",
              "      <td>3</td>\n",
              "      <td>1</td>\n",
              "    </tr>\n",
              "    <tr>\n",
              "      <th>4</th>\n",
              "      <td>282614216</td>\n",
              "      <td>eBay: Best App to Buy, Sell, Save! Online Shop...</td>\n",
              "      <td>128512000</td>\n",
              "      <td>USD</td>\n",
              "      <td>0.00</td>\n",
              "      <td>262241</td>\n",
              "      <td>649</td>\n",
              "      <td>4.0</td>\n",
              "      <td>4.5</td>\n",
              "      <td>5.10.0</td>\n",
              "      <td>12+</td>\n",
              "      <td>Shopping</td>\n",
              "      <td>37</td>\n",
              "      <td>5</td>\n",
              "      <td>9</td>\n",
              "      <td>1</td>\n",
              "    </tr>\n",
              "    <tr>\n",
              "      <th>5</th>\n",
              "      <td>282935706</td>\n",
              "      <td>Bible</td>\n",
              "      <td>92774400</td>\n",
              "      <td>USD</td>\n",
              "      <td>0.00</td>\n",
              "      <td>985920</td>\n",
              "      <td>5320</td>\n",
              "      <td>4.5</td>\n",
              "      <td>5.0</td>\n",
              "      <td>7.5.1</td>\n",
              "      <td>4+</td>\n",
              "      <td>Reference</td>\n",
              "      <td>37</td>\n",
              "      <td>5</td>\n",
              "      <td>45</td>\n",
              "      <td>1</td>\n",
              "    </tr>\n",
              "  </tbody>\n",
              "</table>\n",
              "</div>"
            ],
            "text/plain": [
              "          id  ... vpp_lic\n",
              "1  281656475  ...       1\n",
              "2  281796108  ...       1\n",
              "3  281940292  ...       1\n",
              "4  282614216  ...       1\n",
              "5  282935706  ...       1\n",
              "\n",
              "[5 rows x 16 columns]"
            ]
          },
          "metadata": {
            "tags": []
          },
          "execution_count": 42
        }
      ]
    },
    {
      "cell_type": "markdown",
      "metadata": {
        "id": "sO6Lasf94dJw",
        "colab_type": "text"
      },
      "source": [
        "Можно узнать размер таблицы, информацию о значениях таблицы, различные статистики по значениям"
      ]
    },
    {
      "cell_type": "code",
      "metadata": {
        "id": "eRlhpJJG4dJy",
        "colab_type": "code",
        "outputId": "4efddc90-4bb5-483d-d269-57848fda021d",
        "colab": {
          "base_uri": "https://localhost:8080/",
          "height": 34
        }
      },
      "source": [
        "data.shape"
      ],
      "execution_count": 43,
      "outputs": [
        {
          "output_type": "execute_result",
          "data": {
            "text/plain": [
              "(7197, 16)"
            ]
          },
          "metadata": {
            "tags": []
          },
          "execution_count": 43
        }
      ]
    },
    {
      "cell_type": "code",
      "metadata": {
        "id": "w79raNIQ4dKH",
        "colab_type": "code",
        "outputId": "5762ad16-fe62-4d91-c166-c0696db1cd11",
        "colab": {
          "base_uri": "https://localhost:8080/",
          "height": 374
        }
      },
      "source": [
        "data.info()"
      ],
      "execution_count": 44,
      "outputs": [
        {
          "output_type": "stream",
          "text": [
            "<class 'pandas.core.frame.DataFrame'>\n",
            "Int64Index: 7197 entries, 1 to 11097\n",
            "Data columns (total 16 columns):\n",
            "id                  7197 non-null int64\n",
            "track_name          7197 non-null object\n",
            "size_bytes          7197 non-null int64\n",
            "currency            7197 non-null object\n",
            "price               7197 non-null float64\n",
            "rating_count_tot    7197 non-null int64\n",
            "rating_count_ver    7197 non-null int64\n",
            "user_rating         7197 non-null float64\n",
            "user_rating_ver     7197 non-null float64\n",
            "ver                 7197 non-null object\n",
            "cont_rating         7197 non-null object\n",
            "prime_genre         7197 non-null object\n",
            "sup_devices.num     7197 non-null int64\n",
            "ipadSc_urls.num     7197 non-null int64\n",
            "lang.num            7197 non-null int64\n",
            "vpp_lic             7197 non-null int64\n",
            "dtypes: float64(3), int64(8), object(5)\n",
            "memory usage: 955.9+ KB\n"
          ],
          "name": "stdout"
        }
      ]
    },
    {
      "cell_type": "code",
      "metadata": {
        "id": "KBlztg4i4dKl",
        "colab_type": "code",
        "outputId": "acd913d6-1a54-46c1-d3d3-ac492498a3f8",
        "colab": {
          "base_uri": "https://localhost:8080/",
          "height": 297
        }
      },
      "source": [
        "data.describe()"
      ],
      "execution_count": 45,
      "outputs": [
        {
          "output_type": "execute_result",
          "data": {
            "text/html": [
              "<div>\n",
              "<style scoped>\n",
              "    .dataframe tbody tr th:only-of-type {\n",
              "        vertical-align: middle;\n",
              "    }\n",
              "\n",
              "    .dataframe tbody tr th {\n",
              "        vertical-align: top;\n",
              "    }\n",
              "\n",
              "    .dataframe thead th {\n",
              "        text-align: right;\n",
              "    }\n",
              "</style>\n",
              "<table border=\"1\" class=\"dataframe\">\n",
              "  <thead>\n",
              "    <tr style=\"text-align: right;\">\n",
              "      <th></th>\n",
              "      <th>id</th>\n",
              "      <th>size_bytes</th>\n",
              "      <th>price</th>\n",
              "      <th>rating_count_tot</th>\n",
              "      <th>rating_count_ver</th>\n",
              "      <th>user_rating</th>\n",
              "      <th>user_rating_ver</th>\n",
              "      <th>sup_devices.num</th>\n",
              "      <th>ipadSc_urls.num</th>\n",
              "      <th>lang.num</th>\n",
              "      <th>vpp_lic</th>\n",
              "    </tr>\n",
              "  </thead>\n",
              "  <tbody>\n",
              "    <tr>\n",
              "      <th>count</th>\n",
              "      <td>7.197000e+03</td>\n",
              "      <td>7.197000e+03</td>\n",
              "      <td>7197.000000</td>\n",
              "      <td>7.197000e+03</td>\n",
              "      <td>7197.000000</td>\n",
              "      <td>7197.000000</td>\n",
              "      <td>7197.000000</td>\n",
              "      <td>7197.000000</td>\n",
              "      <td>7197.000000</td>\n",
              "      <td>7197.000000</td>\n",
              "      <td>7197.000000</td>\n",
              "    </tr>\n",
              "    <tr>\n",
              "      <th>mean</th>\n",
              "      <td>8.631310e+08</td>\n",
              "      <td>1.991345e+08</td>\n",
              "      <td>1.726218</td>\n",
              "      <td>1.289291e+04</td>\n",
              "      <td>460.373906</td>\n",
              "      <td>3.526956</td>\n",
              "      <td>3.253578</td>\n",
              "      <td>37.361817</td>\n",
              "      <td>3.707100</td>\n",
              "      <td>5.434903</td>\n",
              "      <td>0.993053</td>\n",
              "    </tr>\n",
              "    <tr>\n",
              "      <th>std</th>\n",
              "      <td>2.712368e+08</td>\n",
              "      <td>3.592069e+08</td>\n",
              "      <td>5.833006</td>\n",
              "      <td>7.573941e+04</td>\n",
              "      <td>3920.455183</td>\n",
              "      <td>1.517948</td>\n",
              "      <td>1.809363</td>\n",
              "      <td>3.737715</td>\n",
              "      <td>1.986005</td>\n",
              "      <td>7.919593</td>\n",
              "      <td>0.083066</td>\n",
              "    </tr>\n",
              "    <tr>\n",
              "      <th>min</th>\n",
              "      <td>2.816565e+08</td>\n",
              "      <td>5.898240e+05</td>\n",
              "      <td>0.000000</td>\n",
              "      <td>0.000000e+00</td>\n",
              "      <td>0.000000</td>\n",
              "      <td>0.000000</td>\n",
              "      <td>0.000000</td>\n",
              "      <td>9.000000</td>\n",
              "      <td>0.000000</td>\n",
              "      <td>0.000000</td>\n",
              "      <td>0.000000</td>\n",
              "    </tr>\n",
              "    <tr>\n",
              "      <th>25%</th>\n",
              "      <td>6.000937e+08</td>\n",
              "      <td>4.692275e+07</td>\n",
              "      <td>0.000000</td>\n",
              "      <td>2.800000e+01</td>\n",
              "      <td>1.000000</td>\n",
              "      <td>3.500000</td>\n",
              "      <td>2.500000</td>\n",
              "      <td>37.000000</td>\n",
              "      <td>3.000000</td>\n",
              "      <td>1.000000</td>\n",
              "      <td>1.000000</td>\n",
              "    </tr>\n",
              "    <tr>\n",
              "      <th>50%</th>\n",
              "      <td>9.781482e+08</td>\n",
              "      <td>9.715302e+07</td>\n",
              "      <td>0.000000</td>\n",
              "      <td>3.000000e+02</td>\n",
              "      <td>23.000000</td>\n",
              "      <td>4.000000</td>\n",
              "      <td>4.000000</td>\n",
              "      <td>37.000000</td>\n",
              "      <td>5.000000</td>\n",
              "      <td>1.000000</td>\n",
              "      <td>1.000000</td>\n",
              "    </tr>\n",
              "    <tr>\n",
              "      <th>75%</th>\n",
              "      <td>1.082310e+09</td>\n",
              "      <td>1.819249e+08</td>\n",
              "      <td>1.990000</td>\n",
              "      <td>2.793000e+03</td>\n",
              "      <td>140.000000</td>\n",
              "      <td>4.500000</td>\n",
              "      <td>4.500000</td>\n",
              "      <td>38.000000</td>\n",
              "      <td>5.000000</td>\n",
              "      <td>8.000000</td>\n",
              "      <td>1.000000</td>\n",
              "    </tr>\n",
              "    <tr>\n",
              "      <th>max</th>\n",
              "      <td>1.188376e+09</td>\n",
              "      <td>4.025970e+09</td>\n",
              "      <td>299.990000</td>\n",
              "      <td>2.974676e+06</td>\n",
              "      <td>177050.000000</td>\n",
              "      <td>5.000000</td>\n",
              "      <td>5.000000</td>\n",
              "      <td>47.000000</td>\n",
              "      <td>5.000000</td>\n",
              "      <td>75.000000</td>\n",
              "      <td>1.000000</td>\n",
              "    </tr>\n",
              "  </tbody>\n",
              "</table>\n",
              "</div>"
            ],
            "text/plain": [
              "                 id    size_bytes  ...     lang.num      vpp_lic\n",
              "count  7.197000e+03  7.197000e+03  ...  7197.000000  7197.000000\n",
              "mean   8.631310e+08  1.991345e+08  ...     5.434903     0.993053\n",
              "std    2.712368e+08  3.592069e+08  ...     7.919593     0.083066\n",
              "min    2.816565e+08  5.898240e+05  ...     0.000000     0.000000\n",
              "25%    6.000937e+08  4.692275e+07  ...     1.000000     1.000000\n",
              "50%    9.781482e+08  9.715302e+07  ...     1.000000     1.000000\n",
              "75%    1.082310e+09  1.819249e+08  ...     8.000000     1.000000\n",
              "max    1.188376e+09  4.025970e+09  ...    75.000000     1.000000\n",
              "\n",
              "[8 rows x 11 columns]"
            ]
          },
          "metadata": {
            "tags": []
          },
          "execution_count": 45
        }
      ]
    },
    {
      "cell_type": "markdown",
      "metadata": {
        "id": "mUDzOl9q4dLX",
        "colab_type": "text"
      },
      "source": [
        "Чтобы посмотреть, какие колонки есть в таблице, можно воспользоваться `columns`"
      ]
    },
    {
      "cell_type": "code",
      "metadata": {
        "id": "P91n9F6S4dLY",
        "colab_type": "code",
        "outputId": "668f006e-a320-4027-8808-7893a7ced1b7",
        "colab": {
          "base_uri": "https://localhost:8080/",
          "height": 102
        }
      },
      "source": [
        "data.columns"
      ],
      "execution_count": 46,
      "outputs": [
        {
          "output_type": "execute_result",
          "data": {
            "text/plain": [
              "Index(['id', 'track_name', 'size_bytes', 'currency', 'price',\n",
              "       'rating_count_tot', 'rating_count_ver', 'user_rating',\n",
              "       'user_rating_ver', 'ver', 'cont_rating', 'prime_genre',\n",
              "       'sup_devices.num', 'ipadSc_urls.num', 'lang.num', 'vpp_lic'],\n",
              "      dtype='object')"
            ]
          },
          "metadata": {
            "tags": []
          },
          "execution_count": 46
        }
      ]
    },
    {
      "cell_type": "markdown",
      "metadata": {
        "id": "1A6l5EAP4dMc",
        "colab_type": "text"
      },
      "source": [
        "Метод `values` преобразует `pd.DataFrame` к `np.ndarray`"
      ]
    },
    {
      "cell_type": "code",
      "metadata": {
        "id": "AGR08Oe_4dMd",
        "colab_type": "code",
        "outputId": "af776886-e89d-4317-ba0c-bf5daec224dd",
        "colab": {
          "base_uri": "https://localhost:8080/",
          "height": 204
        }
      },
      "source": [
        "data.values"
      ],
      "execution_count": 47,
      "outputs": [
        {
          "output_type": "execute_result",
          "data": {
            "text/plain": [
              "array([[281656475, 'PAC-MAN Premium', 100788224, ..., 5, 10, 1],\n",
              "       [281796108, 'Evernote - stay organized', 158578688, ..., 5, 23, 1],\n",
              "       [281940292, 'WeatherBug - Local Weather, Radar, Maps, Alerts',\n",
              "        100524032, ..., 5, 3, 1],\n",
              "       ...,\n",
              "       [1187779532, 'Bret Michaels Emojis + Lyric Keyboard', 111322112,\n",
              "        ..., 1, 1, 1],\n",
              "       [1187838770, 'VR Roller Coaster World - Virtual Reality',\n",
              "        97235968, ..., 0, 2, 1],\n",
              "       [1188375727, 'Escape the Sweet Shop Series', 90898432, ..., 0, 2,\n",
              "        1]], dtype=object)"
            ]
          },
          "metadata": {
            "tags": []
          },
          "execution_count": 47
        }
      ]
    },
    {
      "cell_type": "code",
      "metadata": {
        "id": "Ky-g_VNp4dM5",
        "colab_type": "code",
        "outputId": "46308903-9f58-4a0b-846d-645592e70fb7",
        "colab": {
          "base_uri": "https://localhost:8080/",
          "height": 34
        }
      },
      "source": [
        "type(data.values)"
      ],
      "execution_count": 48,
      "outputs": [
        {
          "output_type": "execute_result",
          "data": {
            "text/plain": [
              "numpy.ndarray"
            ]
          },
          "metadata": {
            "tags": []
          },
          "execution_count": 48
        }
      ]
    },
    {
      "cell_type": "code",
      "metadata": {
        "id": "mvxCmz304dM_",
        "colab_type": "code",
        "outputId": "6a3b7a98-8f9b-4bb4-a6eb-0060d61b8fbc",
        "colab": {
          "base_uri": "https://localhost:8080/",
          "height": 51
        }
      },
      "source": [
        "data.values[:,0]"
      ],
      "execution_count": 49,
      "outputs": [
        {
          "output_type": "execute_result",
          "data": {
            "text/plain": [
              "array([281656475, 281796108, 281940292, ..., 1187779532, 1187838770,\n",
              "       1188375727], dtype=object)"
            ]
          },
          "metadata": {
            "tags": []
          },
          "execution_count": 49
        }
      ]
    },
    {
      "cell_type": "markdown",
      "metadata": {
        "id": "aobDQZI_4dNb",
        "colab_type": "text"
      },
      "source": [
        "Более продвинутое индексирование по таблице: **loc** и **iloc** "
      ]
    },
    {
      "cell_type": "markdown",
      "metadata": {
        "id": "evQeHPTS4dNh",
        "colab_type": "text"
      },
      "source": [
        "`iloc` - index-based selection"
      ]
    },
    {
      "cell_type": "code",
      "metadata": {
        "id": "mTJ_nVIf4dNt",
        "colab_type": "code",
        "outputId": "7462ef87-567f-47a6-c525-97f317fd1d16",
        "colab": {
          "base_uri": "https://localhost:8080/",
          "height": 306
        }
      },
      "source": [
        "data.iloc[0]"
      ],
      "execution_count": 50,
      "outputs": [
        {
          "output_type": "execute_result",
          "data": {
            "text/plain": [
              "id                        281656475\n",
              "track_name          PAC-MAN Premium\n",
              "size_bytes                100788224\n",
              "currency                        USD\n",
              "price                          3.99\n",
              "rating_count_tot              21292\n",
              "rating_count_ver                 26\n",
              "user_rating                       4\n",
              "user_rating_ver                 4.5\n",
              "ver                           6.3.5\n",
              "cont_rating                      4+\n",
              "prime_genre                   Games\n",
              "sup_devices.num                  38\n",
              "ipadSc_urls.num                   5\n",
              "lang.num                         10\n",
              "vpp_lic                           1\n",
              "Name: 1, dtype: object"
            ]
          },
          "metadata": {
            "tags": []
          },
          "execution_count": 50
        }
      ]
    },
    {
      "cell_type": "code",
      "metadata": {
        "id": "oAkFOemq4dN0",
        "colab_type": "code",
        "outputId": "0a835e48-2e4b-4237-949f-ce85e32914db",
        "colab": {
          "base_uri": "https://localhost:8080/",
          "height": 111
        }
      },
      "source": [
        "data.iloc[1:3, 1:3]"
      ],
      "execution_count": 51,
      "outputs": [
        {
          "output_type": "execute_result",
          "data": {
            "text/html": [
              "<div>\n",
              "<style scoped>\n",
              "    .dataframe tbody tr th:only-of-type {\n",
              "        vertical-align: middle;\n",
              "    }\n",
              "\n",
              "    .dataframe tbody tr th {\n",
              "        vertical-align: top;\n",
              "    }\n",
              "\n",
              "    .dataframe thead th {\n",
              "        text-align: right;\n",
              "    }\n",
              "</style>\n",
              "<table border=\"1\" class=\"dataframe\">\n",
              "  <thead>\n",
              "    <tr style=\"text-align: right;\">\n",
              "      <th></th>\n",
              "      <th>track_name</th>\n",
              "      <th>size_bytes</th>\n",
              "    </tr>\n",
              "  </thead>\n",
              "  <tbody>\n",
              "    <tr>\n",
              "      <th>2</th>\n",
              "      <td>Evernote - stay organized</td>\n",
              "      <td>158578688</td>\n",
              "    </tr>\n",
              "    <tr>\n",
              "      <th>3</th>\n",
              "      <td>WeatherBug - Local Weather, Radar, Maps, Alerts</td>\n",
              "      <td>100524032</td>\n",
              "    </tr>\n",
              "  </tbody>\n",
              "</table>\n",
              "</div>"
            ],
            "text/plain": [
              "                                        track_name  size_bytes\n",
              "2                        Evernote - stay organized   158578688\n",
              "3  WeatherBug - Local Weather, Radar, Maps, Alerts   100524032"
            ]
          },
          "metadata": {
            "tags": []
          },
          "execution_count": 51
        }
      ]
    },
    {
      "cell_type": "code",
      "metadata": {
        "id": "Lbhdhwk94dOA",
        "colab_type": "code",
        "outputId": "e6fb8071-b510-4870-8a97-227ccec15648",
        "colab": {
          "base_uri": "https://localhost:8080/",
          "height": 85
        }
      },
      "source": [
        "data.iloc[[0,1,2], 0]"
      ],
      "execution_count": 52,
      "outputs": [
        {
          "output_type": "execute_result",
          "data": {
            "text/plain": [
              "1    281656475\n",
              "2    281796108\n",
              "3    281940292\n",
              "Name: id, dtype: int64"
            ]
          },
          "metadata": {
            "tags": []
          },
          "execution_count": 52
        }
      ]
    },
    {
      "cell_type": "code",
      "metadata": {
        "id": "swCPlMdM4dOJ",
        "colab_type": "code",
        "outputId": "e37d79f5-c62f-4962-d325-fbed2e6bfcbd",
        "colab": {
          "base_uri": "https://localhost:8080/",
          "height": 306
        }
      },
      "source": [
        "data.iloc[-1, :]"
      ],
      "execution_count": 53,
      "outputs": [
        {
          "output_type": "execute_result",
          "data": {
            "text/plain": [
              "id                                    1188375727\n",
              "track_name          Escape the Sweet Shop Series\n",
              "size_bytes                              90898432\n",
              "currency                                     USD\n",
              "price                                          0\n",
              "rating_count_tot                               3\n",
              "rating_count_ver                               3\n",
              "user_rating                                    5\n",
              "user_rating_ver                                5\n",
              "ver                                          1.0\n",
              "cont_rating                                   4+\n",
              "prime_genre                                Games\n",
              "sup_devices.num                               40\n",
              "ipadSc_urls.num                                0\n",
              "lang.num                                       2\n",
              "vpp_lic                                        1\n",
              "Name: 11097, dtype: object"
            ]
          },
          "metadata": {
            "tags": []
          },
          "execution_count": 53
        }
      ]
    },
    {
      "cell_type": "markdown",
      "metadata": {
        "id": "6RmVZVhH4dOR",
        "colab_type": "text"
      },
      "source": [
        "`loc` - label-based selection"
      ]
    },
    {
      "cell_type": "code",
      "metadata": {
        "id": "BZpbGFVu4dOS",
        "colab_type": "code",
        "outputId": "cab7f391-fb96-4233-e1d5-932d3b04f2b1",
        "colab": {
          "base_uri": "https://localhost:8080/",
          "height": 85
        }
      },
      "source": [
        "# первое значение - index, второе - имя колонки\n",
        "data.loc[1, ['id', 'track_name', 'price']]"
      ],
      "execution_count": 54,
      "outputs": [
        {
          "output_type": "execute_result",
          "data": {
            "text/plain": [
              "id                  281656475\n",
              "track_name    PAC-MAN Premium\n",
              "price                    3.99\n",
              "Name: 1, dtype: object"
            ]
          },
          "metadata": {
            "tags": []
          },
          "execution_count": 54
        }
      ]
    },
    {
      "cell_type": "markdown",
      "metadata": {
        "id": "FtXWJ9JI4dOc",
        "colab_type": "text"
      },
      "source": [
        "**Choosing between loc and iloc**\n",
        "\n",
        "When choosing or transitioning between loc and iloc, there is one \"gotcha\" worth keeping in mind, which is that the two methods use slightly different indexing schemes.\n",
        "\n",
        "`iloc` uses the Python stdlib indexing scheme, where the first element of the range is included and the last one excluded. So 0:10 will select entries 0,...,9. loc, meanwhile, indexes inclusively. So 0:10 will select entries 0,...,10.\n",
        "\n",
        "Why the change? Remember that loc can index any stdlib type: strings, for example. If we have a DataFrame with index values `Apples, ..., Potatoes, ...,` and we want to select \"all the alphabetical fruit choices between Apples and Potatoes\", then it's a lot more convenient to index `df.loc['Apples':'Potatoes']` than it is to index something like `df.loc['Apples', 'Potatoet']` (t coming after s in the alphabet).\n",
        "\n",
        "This is particularly confusing when the DataFrame index is a simple numerical list, e.g. 0,...,1000. In this case `df.iloc[0:1000]` will return 1000 entries, while `df.loc[0:1000]` return 1001 of them! To get 1000 elements using `loc`, you will need to go one lower and ask for `df.iloc[0:999]`.\n",
        "\n",
        "Otherwise, the semantics of using `loc` are the same as those for `iloc`."
      ]
    },
    {
      "cell_type": "markdown",
      "metadata": {
        "id": "_qsrARqq4dOd",
        "colab_type": "text"
      },
      "source": [
        "`loc` может принимать булевы выражения (так же, как и в случае с `pd.Series`)\n",
        "\n",
        "Еще один полезный метод - `isin`"
      ]
    },
    {
      "cell_type": "code",
      "metadata": {
        "id": "-pcl_fH04dOj",
        "colab_type": "code",
        "outputId": "d4e834c9-2e3c-4148-fddd-7b7695ed0589",
        "colab": {
          "base_uri": "https://localhost:8080/",
          "height": 361
        }
      },
      "source": [
        "data.loc[data.prime_genre.isin(['Games', 'Shopping'])].head()"
      ],
      "execution_count": 0,
      "outputs": [
        {
          "output_type": "execute_result",
          "data": {
            "text/html": [
              "<div>\n",
              "<style scoped>\n",
              "    .dataframe tbody tr th:only-of-type {\n",
              "        vertical-align: middle;\n",
              "    }\n",
              "\n",
              "    .dataframe tbody tr th {\n",
              "        vertical-align: top;\n",
              "    }\n",
              "\n",
              "    .dataframe thead th {\n",
              "        text-align: right;\n",
              "    }\n",
              "</style>\n",
              "<table border=\"1\" class=\"dataframe\">\n",
              "  <thead>\n",
              "    <tr style=\"text-align: right;\">\n",
              "      <th></th>\n",
              "      <th>id</th>\n",
              "      <th>track_name</th>\n",
              "      <th>size_bytes</th>\n",
              "      <th>currency</th>\n",
              "      <th>price</th>\n",
              "      <th>rating_count_tot</th>\n",
              "      <th>rating_count_ver</th>\n",
              "      <th>user_rating</th>\n",
              "      <th>user_rating_ver</th>\n",
              "      <th>ver</th>\n",
              "      <th>cont_rating</th>\n",
              "      <th>prime_genre</th>\n",
              "      <th>sup_devices.num</th>\n",
              "      <th>ipadSc_urls.num</th>\n",
              "      <th>lang.num</th>\n",
              "      <th>vpp_lic</th>\n",
              "    </tr>\n",
              "  </thead>\n",
              "  <tbody>\n",
              "    <tr>\n",
              "      <th>1</th>\n",
              "      <td>281656475</td>\n",
              "      <td>PAC-MAN Premium</td>\n",
              "      <td>100788224</td>\n",
              "      <td>USD</td>\n",
              "      <td>3.99</td>\n",
              "      <td>21292</td>\n",
              "      <td>26</td>\n",
              "      <td>4.0</td>\n",
              "      <td>4.5</td>\n",
              "      <td>6.3.5</td>\n",
              "      <td>4+</td>\n",
              "      <td>Games</td>\n",
              "      <td>38</td>\n",
              "      <td>5</td>\n",
              "      <td>10</td>\n",
              "      <td>1</td>\n",
              "    </tr>\n",
              "    <tr>\n",
              "      <th>4</th>\n",
              "      <td>282614216</td>\n",
              "      <td>eBay: Best App to Buy, Sell, Save! Online Shop...</td>\n",
              "      <td>128512000</td>\n",
              "      <td>USD</td>\n",
              "      <td>0.00</td>\n",
              "      <td>262241</td>\n",
              "      <td>649</td>\n",
              "      <td>4.0</td>\n",
              "      <td>4.5</td>\n",
              "      <td>5.10.0</td>\n",
              "      <td>12+</td>\n",
              "      <td>Shopping</td>\n",
              "      <td>37</td>\n",
              "      <td>5</td>\n",
              "      <td>9</td>\n",
              "      <td>1</td>\n",
              "    </tr>\n",
              "    <tr>\n",
              "      <th>6</th>\n",
              "      <td>283619399</td>\n",
              "      <td>Shanghai Mahjong</td>\n",
              "      <td>10485713</td>\n",
              "      <td>USD</td>\n",
              "      <td>0.99</td>\n",
              "      <td>8253</td>\n",
              "      <td>5516</td>\n",
              "      <td>4.0</td>\n",
              "      <td>4.0</td>\n",
              "      <td>1.8</td>\n",
              "      <td>4+</td>\n",
              "      <td>Games</td>\n",
              "      <td>47</td>\n",
              "      <td>5</td>\n",
              "      <td>1</td>\n",
              "      <td>1</td>\n",
              "    </tr>\n",
              "    <tr>\n",
              "      <th>10</th>\n",
              "      <td>284736660</td>\n",
              "      <td>Ms. PAC-MAN</td>\n",
              "      <td>70023168</td>\n",
              "      <td>USD</td>\n",
              "      <td>3.99</td>\n",
              "      <td>7885</td>\n",
              "      <td>40</td>\n",
              "      <td>4.0</td>\n",
              "      <td>4.0</td>\n",
              "      <td>4.0.4</td>\n",
              "      <td>4+</td>\n",
              "      <td>Games</td>\n",
              "      <td>38</td>\n",
              "      <td>0</td>\n",
              "      <td>10</td>\n",
              "      <td>1</td>\n",
              "    </tr>\n",
              "    <tr>\n",
              "      <th>11</th>\n",
              "      <td>284791396</td>\n",
              "      <td>Solitaire by MobilityWare</td>\n",
              "      <td>49618944</td>\n",
              "      <td>USD</td>\n",
              "      <td>4.99</td>\n",
              "      <td>76720</td>\n",
              "      <td>4017</td>\n",
              "      <td>4.5</td>\n",
              "      <td>4.5</td>\n",
              "      <td>4.10.1</td>\n",
              "      <td>4+</td>\n",
              "      <td>Games</td>\n",
              "      <td>38</td>\n",
              "      <td>4</td>\n",
              "      <td>11</td>\n",
              "      <td>1</td>\n",
              "    </tr>\n",
              "  </tbody>\n",
              "</table>\n",
              "</div>"
            ],
            "text/plain": [
              "           id  ... vpp_lic\n",
              "1   281656475  ...       1\n",
              "4   282614216  ...       1\n",
              "6   283619399  ...       1\n",
              "10  284736660  ...       1\n",
              "11  284791396  ...       1\n",
              "\n",
              "[5 rows x 16 columns]"
            ]
          },
          "metadata": {
            "tags": []
          },
          "execution_count": 89
        }
      ]
    },
    {
      "cell_type": "markdown",
      "metadata": {
        "id": "1zlKXGBW4dO2",
        "colab_type": "text"
      },
      "source": [
        "Иногда бывает так, что мы хотим как-то сагрегировать данные, чтобы ответить на интересующие нас вопросы"
      ]
    },
    {
      "cell_type": "markdown",
      "metadata": {
        "id": "5SNKUgTe4dO4",
        "colab_type": "text"
      },
      "source": [
        "Например, мы хотим узнать какая максимальная цена приложения, среди приложений, которые получили одинаковые оценки пользователей\n",
        "\n",
        "для этого нам поможет метод `groupby`"
      ]
    },
    {
      "cell_type": "code",
      "metadata": {
        "id": "xNbqqp9S4dO_",
        "colab_type": "code",
        "outputId": "3c1e46ec-953f-4038-95de-25b4815e5e6f",
        "colab": {
          "base_uri": "https://localhost:8080/",
          "height": 136
        }
      },
      "source": [
        "data.groupby('user_rating').price.max().head()"
      ],
      "execution_count": 55,
      "outputs": [
        {
          "output_type": "execute_result",
          "data": {
            "text/plain": [
              "user_rating\n",
              "0.0    47.99\n",
              "1.0    24.99\n",
              "1.5     4.99\n",
              "2.0     9.99\n",
              "2.5     9.99\n",
              "Name: price, dtype: float64"
            ]
          },
          "metadata": {
            "tags": []
          },
          "execution_count": 55
        }
      ]
    },
    {
      "cell_type": "markdown",
      "metadata": {
        "id": "c4b0yzp04dPH",
        "colab_type": "text"
      },
      "source": [
        "*Задания*"
      ]
    },
    {
      "cell_type": "markdown",
      "metadata": {
        "id": "wR8mtsnK4dPP",
        "colab_type": "text"
      },
      "source": [
        "---"
      ]
    },
    {
      "cell_type": "markdown",
      "metadata": {
        "id": "gP1oLtzV4dPU",
        "colab_type": "text"
      },
      "source": [
        "Получите ответ на следующие вопросы (с помощью pandas):\n",
        "\n",
        "1). Сколько приложений с максимальным рейтингом (`user_rating`)?\n",
        "\n",
        "2). Сколько всего жанров (`prime_genre`) и какие они? (Hint: `np.unique`)  \n",
        "\n",
        "3). Сколько суммарно байт (`size_bytes`) весят все приложения жанра Finance?  \n",
        "\n",
        "4). Сколько всего бесплатных приложений, у которых рейтинг юзеров больше трёх?  \n",
        "\n",
        "5). Есть ли приложения, которые стоят больше 100 долларов?\n",
        "\n",
        "6). Сколько приложений из жанра `Games` или `Shopping`, которые стоят дороже 10 USD или меньше 2 USD, но не являются бесплатными?\n",
        "\n",
        "7). Посчитайте среднюю цену приложений, которые имеют рейтинг 4.5 и возрастное ограничение (`cont_rating`) 12+"
      ]
    },
    {
      "cell_type": "code",
      "metadata": {
        "id": "6FBZQeb0dPh2",
        "colab_type": "code",
        "colab": {
          "base_uri": "https://localhost:8080/",
          "height": 51
        },
        "outputId": "c567fe41-2e76-4a32-8c20-b37c2b71aa8a"
      },
      "source": [
        "# приложений с максимальным рейтингом (user_rating)?\n",
        "max_user_rating = data.user_rating.max()\n",
        "print(max_user_rating)\n",
        "len(data[data.user_rating==max_user_rating].track_name.unique())"
      ],
      "execution_count": 63,
      "outputs": [
        {
          "output_type": "stream",
          "text": [
            "5.0\n"
          ],
          "name": "stdout"
        },
        {
          "output_type": "execute_result",
          "data": {
            "text/plain": [
              "492"
            ]
          },
          "metadata": {
            "tags": []
          },
          "execution_count": 63
        }
      ]
    },
    {
      "cell_type": "code",
      "metadata": {
        "id": "wpI58aT0eJTX",
        "colab_type": "code",
        "colab": {
          "base_uri": "https://localhost:8080/",
          "height": 442
        },
        "outputId": "03c1f70e-8175-44fd-f1b6-5d367c0889a2"
      },
      "source": [
        "# всего жанров (prime_genre) и какие они? (Hint: np.unique)\n",
        "ans = data.prime_genre.value_counts()\n",
        "print(ans)\n",
        "len(ans)"
      ],
      "execution_count": 66,
      "outputs": [
        {
          "output_type": "stream",
          "text": [
            "Games                3862\n",
            "Entertainment         535\n",
            "Education             453\n",
            "Photo & Video         349\n",
            "Utilities             248\n",
            "Health & Fitness      180\n",
            "Productivity          178\n",
            "Social Networking     167\n",
            "Lifestyle             144\n",
            "Music                 138\n",
            "Shopping              122\n",
            "Sports                114\n",
            "Book                  112\n",
            "Finance               104\n",
            "Travel                 81\n",
            "News                   75\n",
            "Weather                72\n",
            "Reference              64\n",
            "Food & Drink           63\n",
            "Business               57\n",
            "Navigation             46\n",
            "Medical                23\n",
            "Catalogs               10\n",
            "Name: prime_genre, dtype: int64\n"
          ],
          "name": "stdout"
        },
        {
          "output_type": "execute_result",
          "data": {
            "text/plain": [
              "23"
            ]
          },
          "metadata": {
            "tags": []
          },
          "execution_count": 66
        }
      ]
    },
    {
      "cell_type": "code",
      "metadata": {
        "id": "MmgX0nQxfFdE",
        "colab_type": "code",
        "colab": {
          "base_uri": "https://localhost:8080/",
          "height": 34
        },
        "outputId": "c1646ea9-2435-4759-ecad-7a0f95ae12f6"
      },
      "source": [
        "# Сколько суммарно байт (size_bytes) весят все приложения жанра Finance?\n",
        "data[data.prime_genre=='Finance'].size_bytes.sum()"
      ],
      "execution_count": 67,
      "outputs": [
        {
          "output_type": "execute_result",
          "data": {
            "text/plain": [
              "8136529366"
            ]
          },
          "metadata": {
            "tags": []
          },
          "execution_count": 67
        }
      ]
    },
    {
      "cell_type": "code",
      "metadata": {
        "id": "JrOyfh1IfdD6",
        "colab_type": "code",
        "colab": {
          "base_uri": "https://localhost:8080/",
          "height": 34
        },
        "outputId": "43b63717-78bc-4fd0-e1d4-209f632117fb"
      },
      "source": [
        "# 4). Сколько всего бесплатных приложений, у которых рейтинг юзеров больше трёх?\n",
        "sum((data.user_rating>3) & (data.price==0))"
      ],
      "execution_count": 68,
      "outputs": [
        {
          "output_type": "execute_result",
          "data": {
            "text/plain": [
              "2944"
            ]
          },
          "metadata": {
            "tags": []
          },
          "execution_count": 68
        }
      ]
    },
    {
      "cell_type": "code",
      "metadata": {
        "id": "uO7aKEq7f4_5",
        "colab_type": "code",
        "colab": {
          "base_uri": "https://localhost:8080/",
          "height": 34
        },
        "outputId": "8fa167a7-60a4-4135-da0c-bb3e3442d89c"
      },
      "source": [
        "# 5). Есть ли приложения, которые стоят больше 100 долларов?\n",
        "any(data.price > 100)"
      ],
      "execution_count": 69,
      "outputs": [
        {
          "output_type": "execute_result",
          "data": {
            "text/plain": [
              "True"
            ]
          },
          "metadata": {
            "tags": []
          },
          "execution_count": 69
        }
      ]
    },
    {
      "cell_type": "code",
      "metadata": {
        "id": "PnAgekzCgJ0M",
        "colab_type": "code",
        "colab": {
          "base_uri": "https://localhost:8080/",
          "height": 34
        },
        "outputId": "3222df3f-4827-4ec8-a932-600df2180562"
      },
      "source": [
        "# 6). Сколько приложений из жанра Games или Shopping, которые стоят дороже 10 USD или меньше 2 USD, но не являются бесплатными?\n",
        "sum(data.prime_genre.isin(['Games','Shopping']) & ((data.price>10) | ( (data.price < 2) & (data.price > 0))))"
      ],
      "execution_count": 70,
      "outputs": [
        {
          "output_type": "execute_result",
          "data": {
            "text/plain": [
              "739"
            ]
          },
          "metadata": {
            "tags": []
          },
          "execution_count": 70
        }
      ]
    },
    {
      "cell_type": "code",
      "metadata": {
        "id": "ckDrS8QRgz1b",
        "colab_type": "code",
        "colab": {
          "base_uri": "https://localhost:8080/",
          "height": 34
        },
        "outputId": "16e985a3-cfe4-48a3-add2-0a28e82c37c8"
      },
      "source": [
        "# 7). Посчитайте среднюю цену приложений, которые имеют рейтинг 4.5 и возрастное ограничение (cont_rating) 12+\n",
        "\n",
        "data[(data.user_rating == 4.5) & (data.cont_rating=='12+')].price.mean()"
      ],
      "execution_count": 71,
      "outputs": [
        {
          "output_type": "execute_result",
          "data": {
            "text/plain": [
              "1.689205298013248"
            ]
          },
          "metadata": {
            "tags": []
          },
          "execution_count": 71
        }
      ]
    },
    {
      "cell_type": "markdown",
      "metadata": {
        "id": "6XF2RdJR4dPV",
        "colab_type": "text"
      },
      "source": [
        "---"
      ]
    },
    {
      "cell_type": "markdown",
      "metadata": {
        "id": "0UnsJkxp4dPZ",
        "colab_type": "text"
      },
      "source": [
        "Мы разобрали только малую часть работы с `pandas`. Это действительно мощный инструмент для работы с данными и его возможности обширны\n",
        "\n",
        "Из того, что мы не разобрали (уделили мало внимания), стоит обратить внимание на следующие вещи:\n",
        "\n",
        "* Работа с пропущенными значениями (`fillna`)\n",
        "* Объединение таблиц (`join`)\n",
        "* Агрегирование таблицы (`gropby`)\n",
        "* Применение к данным функций (`apply`, `applymap`)\n",
        "* так же стоит посмотреть, как работать с базами данных в `pandas`"
      ]
    },
    {
      "cell_type": "markdown",
      "metadata": {
        "id": "TORXWi6_4dPd",
        "colab_type": "text"
      },
      "source": [
        "Список полезных ссылок:\n",
        "\n",
        "* Официальные туториалы: https://pandas.pydata.org/pandas-docs/stable/getting_started/tutorials.html\n",
        "\n",
        "* Официальная документация: https://pandas.pydata.org/pandas-docs/stable/\n",
        "\n",
        "* Статья на Хабре от OpenDataScience сообщества: https://habr.com/company/ods/blog/322626/\n",
        "\n",
        "* Подробный гайд: https://media.readthedocs.org/pdf/pandasguide/latest/pandasguide.pdf\n",
        "\n",
        "* Небольшой курс от kaggle: https://www.kaggle.com/learn/pandas"
      ]
    },
    {
      "cell_type": "markdown",
      "metadata": {
        "id": "JLDQSffQ4dPe",
        "colab_type": "text"
      },
      "source": [
        "Главное в работе с новыми библиотеками -- не бояться тыкать в разные функции, смотреть типы возвращаемых объектов и активно пользоваться Яндексом, читать документацию на официальном сайте (она довольно хорошо написана), а ещё лучше понимать всё из docstring'а (`Shift+Tab` при нахождении курсора внутри скобок функции)."
      ]
    }
  ]
}